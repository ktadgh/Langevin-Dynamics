{
 "cells": [
  {
   "cell_type": "markdown",
   "id": "57d9e0bf",
   "metadata": {},
   "source": []
  },
  {
   "cell_type": "code",
   "execution_count": 33,
   "id": "db536bcc",
   "metadata": {},
   "outputs": [],
   "source": [
    "import numpy as np\n",
    "from functools import partial\n",
    "import matplotlib.pyplot as plt \n",
    "from IPython.display import HTML\n",
    "plt.rc('font', size=14) # makes the fonts used in graphs a bit larger (and clearer)!"
   ]
  },
  {
   "cell_type": "code",
   "execution_count": 34,
   "id": "e20bd055",
   "metadata": {},
   "outputs": [],
   "source": [
    "# define the A,B,O step function\n",
    "def A_step( qp , h):\n",
    "    q,p = qp \n",
    "    q = q + h*p\n",
    "    return [q, p]\n",
    "\n",
    "def B_step( qp, h, force) :\n",
    "    q,p = qp\n",
    "    F = force(q)\n",
    "    p = p + h*F\n",
    "    return [q, p]\n",
    "\n",
    "def O_step( qp, h, gamma, beta ):\n",
    "    q,p = qp\n",
    "    alpha = np.exp(-h*gamma)\n",
    "    R = np.random.random( q.size).reshape(q.shape)\n",
    "    p = p * alpha + np.sqrt((1-alpha*alpha)/beta) * R\n",
    "    return [q,p]\n"
   ]
  },
  {
   "cell_type": "code",
   "execution_count": 35,
   "id": "a120df5c",
   "metadata": {},
   "outputs": [],
   "source": [
    "# implement the BAOAB method\n",
    "def ld_BAOAB(q, p, h, gamma, beta, force):\n",
    "    \n",
    "    qp = [q, p]\n",
    "    qp_B = B_step(qp, h/2, force)\n",
    "    qp_BA = A_step(qp_B, h/2)\n",
    "    qp_BAO = O_step(qp_BA, h, gamma, beta)\n",
    "    qp_BAOA = A_step(qp_BAO, h/2)\n",
    "    qp_BAOAB = B_step(qp_BAOA, h/2, force)\n",
    "    q,p = qp_BAOAB\n",
    "    return q, p\n"
   ]
  },
  {
   "cell_type": "code",
   "execution_count": 43,
   "id": "f792514a",
   "metadata": {},
   "outputs": [],
   "source": [
    "def run_simulation(q0, p0, Nsteps, h, gamma, beta, step_function, force_function):\n",
    "    q_traj = [np.copy(q0)]\n",
    "    p_traj = [np.copy(p0)]\n",
    "    t_traj = [0]\n",
    "\n",
    "    q = np.copy(q0)\n",
    "    p = np.copy(p0)\n",
    "    t = 0\n",
    "    \n",
    "    for n in range(Nsteps):\n",
    "        q,p = step_function(q, p, h, gamma, beta, force_function)\n",
    "        t = t + h\n",
    "        \n",
    "        q_traj += [q]\n",
    "        p_traj += [p]\n",
    "        t_traj += [t]\n",
    "        \n",
    "    q_traj = np.array(q_traj)\n",
    "    p_traj = np.array(p_traj)\n",
    "    t_traj = np.array(t_traj)\n",
    "    \n",
    "    return q_traj, p_traj, t_traj\n"
   ]
  },
  {
   "cell_type": "code",
   "execution_count": 92,
   "id": "fd4f8ba6",
   "metadata": {},
   "outputs": [],
   "source": [
    "def force_lan(q):\n",
    "    #F =  - q**2/2 + q**4/4 ######\n",
    "    F = -q + q**3\n",
    "    return F\n",
    "\n",
    "def init_toplot(gamma):\n",
    "\n",
    "    q0 = np.random.randn(1)\n",
    "    p0 = np.random.randn(1)\n",
    "\n",
    "    Nsteps = 1000\n",
    "    h = 0.1\n",
    "    gamma = 1.0\n",
    "    beta = 1.0\n",
    "\n",
    "    # Run one long trajectory of Nsteps, using the BAOAB scheme\n",
    "    q_traj, p_traj, t_traj = run_simulation(q0, p0, Nsteps , h, gamma, beta, ld_BAOAB, force_lan)"
   ]
  },
  {
   "cell_type": "code",
   "execution_count": 93,
   "id": "0b9bbf74",
   "metadata": {},
   "outputs": [
    {
     "ename": "NameError",
     "evalue": "name 'step_function' is not defined",
     "output_type": "error",
     "traceback": [
      "\u001b[0;31m---------------------------------------------------------------------------\u001b[0m",
      "\u001b[0;31mNameError\u001b[0m                                 Traceback (most recent call last)",
      "Input \u001b[0;32mIn [93]\u001b[0m, in \u001b[0;36m<cell line: 13>\u001b[0;34m()\u001b[0m\n\u001b[1;32m     11\u001b[0m friction \u001b[38;5;241m=\u001b[39m [\u001b[38;5;241m0.0001\u001b[39m,\u001b[38;5;241m0.001\u001b[39m,\u001b[38;5;241m0.01\u001b[39m,\u001b[38;5;241m0.1\u001b[39m,\u001b[38;5;241m1\u001b[39m,\u001b[38;5;241m10\u001b[39m]\n\u001b[1;32m     13\u001b[0m \u001b[38;5;28;01mfor\u001b[39;00m gamma \u001b[38;5;129;01min\u001b[39;00m friction:\n\u001b[0;32m---> 14\u001b[0m     x \u001b[38;5;241m=\u001b[39m run_simulation(q0, p0, Nsteps, h, gamma, beta, \u001b[43mstep_function\u001b[49m, force_function)\n\u001b[1;32m     15\u001b[0m     plt\u001b[38;5;241m.\u001b[39mplot(midx,rho,\u001b[38;5;124m'\u001b[39m\u001b[38;5;124m--\u001b[39m\u001b[38;5;124m'\u001b[39m,label\u001b[38;5;241m=\u001b[39m\u001b[38;5;124mf\u001b[39m\u001b[38;5;124m'\u001b[39m\u001b[38;5;124mgamma=\u001b[39m\u001b[38;5;132;01m{\u001b[39;00mgamma\u001b[38;5;132;01m}\u001b[39;00m\u001b[38;5;124m'\u001b[39m, density\u001b[38;5;241m=\u001b[39m\u001b[38;5;28;01mTrue\u001b[39;00m)\n\u001b[1;32m     17\u001b[0m plt\u001b[38;5;241m.\u001b[39mtitle(\u001b[38;5;124m'\u001b[39m\u001b[38;5;124mDistribution of $q$\u001b[39m\u001b[38;5;124m'\u001b[39m)\n",
      "\u001b[0;31mNameError\u001b[0m: name 'step_function' is not defined"
     ]
    },
    {
     "data": {
      "image/png": "[encoded data removed]",
      "text/plain": [
       "<Figure size 640x480 with 1 Axes>"
      ]
     },
     "metadata": {},
     "output_type": "display_data"
    }
   ],
   "source": [
    "histogram,bins = np.histogram(q_traj,bins=100,range=[-3,3], density=True)\n",
    "\n",
    "midx = (bins[0:-1]+bins[1:])/2\n",
    "#rho = np.exp(- midx**2/2 + midx**4/4)\n",
    "rho = np.exp(- beta*(midx**2)/2)\n",
    "rho = rho / ( np.sum(rho) * (midx[1]-midx[0]) ) # Normalize rho by dividing by its approx. integral\n",
    "#plt.plot(midx,histogram,label='Experiment')\n",
    "plt.plot(midx,rho,'--',label='Truth')\n",
    "\n",
    "gamma = 10\n",
    "friction = [0.0001,0.001,0.01,0.1,1,10]\n",
    "\n",
    "for gamma in friction:\n",
    "    x = run_simulation(q0, p0, Nsteps, h, gamma, beta, step_function, force_function)\n",
    "    plt.plot(midx,rho,'--',label=f'gamma={gamma}', density=True)\n",
    "\n",
    "plt.title('Distribution of $q$')\n",
    "plt.xlabel('$q$')\n",
    "plt.ylabel('Density')\n",
    "plt.legend()"
   ]
  },
  {
   "cell_type": "code",
   "execution_count": null,
   "id": "75b3b651",
   "metadata": {},
   "outputs": [],
   "source": []
  },
  {
   "cell_type": "code",
   "execution_count": null,
   "id": "b17bd51d",
   "metadata": {},
   "outputs": [],
   "source": []
  }
 ],
 "metadata": {
  "kernelspec": {
   "display_name": "Python 3 (ipykernel)",
   "language": "python",
   "name": "python3"
  },
  "language_info": {
   "codemirror_mode": {
    "name": "ipython",
    "version": 3
   },
   "file_extension": ".py",
   "mimetype": "text/x-python",
   "name": "python",
   "nbconvert_exporter": "python",
   "pygments_lexer": "ipython3",
   "version": "3.9.13"
  }
 },
 "nbformat": 4,
 "nbformat_minor": 5
}
