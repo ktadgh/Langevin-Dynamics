{
 "cells": [
  {
   "cell_type": "code",
   "execution_count": 19,
   "outputs": [],
   "source": [
    "import numpy as np\n",
    "import matplotlib.pyplot as plt\n",
    "from numba import jit\n",
    "from numba.types import pyobject\n",
    "import numba"
   ],
   "metadata": {
    "collapsed": false
   }
  },
  {
   "cell_type": "markdown",
   "source": [
    "## Defining the class"
   ],
   "metadata": {
    "collapsed": false
   }
  },
  {
   "cell_type": "code",
   "execution_count": 20,
   "outputs": [],
   "source": [
    "@jit(nopython=True)\n",
    "def force(q):\n",
    "    F = q - q**3\n",
    "    return F\n",
    "\n",
    "@jit(nopython=True)\n",
    "def A_step( qp , h , factor=1):\n",
    "    q,p = qp\n",
    "\n",
    "    q = q + h*p*factor\n",
    "\n",
    "    return [q,p]\n",
    "\n",
    "@jit(nopython=True)\n",
    "def B_step( qp , h, factor=1):\n",
    "    q,p = qp\n",
    "\n",
    "    F = q - q**3\n",
    "\n",
    "    p = p + h*F*factor\n",
    "\n",
    "    return [q,p]\n",
    "\n",
    "\n",
    "@jit(nopython=True)\n",
    "def O_step( qp , h,gamma, factor=1):\n",
    "    q,p = qp\n",
    "\n",
    "    alpha = np.exp(-h*gamma)\n",
    "\n",
    "    R = np.random.randn( q.size ).reshape( q.shape)\n",
    "    p = np.exp(- gamma*h *factor)*p+ np.sqrt(1-np.exp(-gamma*h))*R\n",
    "\n",
    "    return [q,p]\n",
    "\n",
    "@jit(nopython=True)\n",
    "def obabo_step(q,p,h,gamma,beta):\n",
    "    qp = [q,p]  #this just translates the separate q and p vectors\n",
    "                #into a single vector composed from the pair.\n",
    "    qp = O_step( qp, h, gamma, 0.5)\n",
    "    qp = B_step( qp, h,0.5)\n",
    "    qp = A_step(qp , h )\n",
    "    qp = B_step( qp, h,0.5)\n",
    "    qp = O_step( qp, h, gamma,  0.5)\n",
    "\n",
    "    q,p = qp\n",
    "    return q , p\n"
   ],
   "metadata": {
    "collapsed": false
   }
  },
  {
   "cell_type": "code",
   "execution_count": 21,
   "outputs": [
    {
     "data": {
      "text/plain": "array(float64, 2d, C)"
     },
     "execution_count": 21,
     "metadata": {},
     "output_type": "execute_result"
    }
   ],
   "source": [
    " q_traj= np.array([[]])\n",
    "numba.typeof(q_traj)"
   ],
   "metadata": {
    "collapsed": false
   }
  },
  {
   "cell_type": "markdown",
   "source": [
    "# Defining a class for the integrators"
   ],
   "metadata": {
    "collapsed": false
   }
  },
  {
   "cell_type": "code",
   "execution_count": 22,
   "outputs": [],
   "source": [
    "@jit(nopython=True)\n",
    "def run_simulation(Nsteps, h, gamma,q_init= np.array([]),p_init= np.array([])):\n",
    "    beta = 1\n",
    "    q_traj = [q_init]\n",
    "    p_traj = [p_init]\n",
    "    t_traj = [0]\n",
    "\n",
    "    q = np.copy(q_init)\n",
    "    p = np.copy(p_init)\n",
    "    t = 0\n",
    "\n",
    "    for n in range(Nsteps):\n",
    "        q,p = obabo_step(q, p, h, gamma, beta)\n",
    "        t = t + h\n",
    "\n",
    "        q_traj += [q]\n",
    "        p_traj += [p]\n",
    "        t_traj += [t]\n",
    "\n",
    "    #q_traj = np.array(q_traj)\n",
    "    #p_traj = np.array(p_traj)\n",
    "    #t_traj = np.array(t_traj)\n",
    "\n",
    "    return q_traj, p_traj, t_traj"
   ],
   "metadata": {
    "collapsed": false
   }
  },
  {
   "cell_type": "code",
   "execution_count": 23,
   "outputs": [],
   "source": [
    "@jit(nopython=True)\n",
    "def simulate_trajectories(n_steps, stepsize, q_init, p_init, gammas):\n",
    "    trajectories = []\n",
    "    for gamma in gammas:\n",
    "        q_traj, p_traj, t_traj = run_simulation( n_steps , stepsize, gamma,q_init, p_init)\n",
    "        trajectories.append((q_traj, p_traj, t_traj))\n",
    "    return gammas, trajectories"
   ],
   "metadata": {
    "collapsed": false
   }
  },
  {
   "cell_type": "code",
   "execution_count": 24,
   "outputs": [],
   "source": [
    "class Scheme:\n",
    "    def __init__(self, step_funtion, force, potential):\n",
    "        self.step_function = step_funtion\n",
    "        self.force = force\n",
    "        self.potential = potential\n",
    "\n",
    "    def friction_graph(self, n_steps, stepsize, sims,gammas, q_init = None, p_init = None):\n",
    "        if q_init == None:\n",
    "            q_init = np.zeros(sims)\n",
    "        if p_init == None:\n",
    "            p_init = np.zeros(sims)\n",
    "        gammas, trajectories = simulate_trajectories(n_steps, stepsize, q_init, p_init, gammas)\n",
    "        fig = plt.figure(figsize=[10,7])\n",
    "        for i in range(len(trajectories)):\n",
    "            q_traj, _,_ = trajectories[i]\n",
    "            histogram,bins = np.histogram(q_traj,bins=50,range=[-3,3], density=True)\n",
    "            midx = (bins[0:-1]+bins[1:])/2\n",
    "            plt.plot(midx,histogram,label=f'Friction = {gammas[i]}')\n",
    "            plt.xlabel('$q$')\n",
    "            plt.ylabel('Density')\n",
    "\n",
    "\n",
    "        plt.title(\"Distribution of $q$ for different values of friction\")\n",
    "        rho = np.exp( -self.potential(midx))\n",
    "        rho = rho / ( np.sum(rho) * (midx[1]-midx[0]) )\n",
    "        plt.plot(midx,rho,'--',label='Truth')\n",
    "        plt.legend()\n",
    "        #plt.show()"
   ],
   "metadata": {
    "collapsed": false
   }
  },
  {
   "cell_type": "markdown",
   "source": [],
   "metadata": {
    "collapsed": false
   }
  },
  {
   "cell_type": "code",
   "execution_count": 28,
   "outputs": [],
   "source": [
    "@jit(nopython=True)\n",
    "def U(x):\n",
    "    return - x**2/2 + x**4/4"
   ],
   "metadata": {
    "collapsed": false
   }
  },
  {
   "cell_type": "markdown",
   "source": [
    "# Graphing the results of the simulation"
   ],
   "metadata": {
    "collapsed": false
   }
  },
  {
   "cell_type": "code",
   "execution_count": 30,
   "outputs": [],
   "source": [
    "OBABO = Scheme(obabo_step, force, U)"
   ],
   "metadata": {
    "collapsed": false
   }
  },
  {
   "cell_type": "code",
   "execution_count": 31,
   "outputs": [],
   "source": [
    "gammas = [float(10**(2*p)) for p in range(-5,5)]"
   ],
   "metadata": {
    "collapsed": false
   }
  },
  {
   "cell_type": "code",
   "execution_count": 32,
   "outputs": [
    {
     "name": "stderr",
     "output_type": "stream",
     "text": [
      "C:\\Users\\Administrator\\AppData\\Local\\Programs\\Python\\Python310\\lib\\site-packages\\numba\\core\\ir_utils.py:2147: NumbaPendingDeprecationWarning: \u001B[1m\n",
      "Encountered the use of a type that is scheduled for deprecation: type 'reflected list' found for argument 'gammas' of function 'simulate_trajectories'.\n",
      "\n",
      "For more information visit https://numba.readthedocs.io/en/stable/reference/deprecation.html#deprecation-of-reflection-for-list-and-set-types\n",
      "\u001B[1m\n",
      "File \"..\\..\\..\\..\\AppData\\Local\\Temp\\ipykernel_592\\3458510264.py\", line 1:\u001B[0m\n",
      "\u001B[1m<source missing, REPL/exec in use?>\u001B[0m\n",
      "\u001B[0m\n",
      "  warnings.warn(NumbaPendingDeprecationWarning(msg, loc=loc))\n"
     ]
    },
    {
     "data": {
      "text/plain": "<Figure size 720x504 with 1 Axes>",
      "image/png": "[encoded data removed]"
     },
     "metadata": {
      "needs_background": "light"
     },
     "output_type": "display_data"
    }
   ],
   "source": [
    "# running 1000 simulations, each taking 100000 steps of size 0.01\n",
    "OBABO.friction_graph(100000, 0.01, 1000, gammas)"
   ],
   "metadata": {
    "collapsed": false
   }
  },
  {
   "cell_type": "code",
   "execution_count": 33,
   "outputs": [],
   "source": [
    "#%run -i Euler_Maruyama.ipynb"
   ],
   "metadata": {
    "collapsed": false
   }
  },
  {
   "cell_type": "code",
   "execution_count": 34,
   "outputs": [],
   "source": [
    "#euler_maruyama = Scheme(EM_Step, force_1, U)"
   ],
   "metadata": {
    "collapsed": false
   }
  },
  {
   "cell_type": "code",
   "execution_count": 35,
   "outputs": [],
   "source": [
    "#euler_maruyama.friction_graph(1000, 0.1, 1000, gammas)"
   ],
   "metadata": {
    "collapsed": false
   }
  },
  {
   "cell_type": "markdown",
   "source": [
    "## Graphing the expected value of U(q)\n"
   ],
   "metadata": {
    "collapsed": false
   }
  },
  {
   "cell_type": "code",
   "execution_count": 35,
   "outputs": [],
   "source": [],
   "metadata": {
    "collapsed": false
   }
  }
 ],
 "metadata": {
  "kernelspec": {
   "display_name": "Python 3",
   "language": "python",
   "name": "python3"
  },
  "language_info": {
   "codemirror_mode": {
    "name": "ipython",
    "version": 2
   },
   "file_extension": ".py",
   "mimetype": "text/x-python",
   "name": "python",
   "nbconvert_exporter": "python",
   "pygments_lexer": "ipython2",
   "version": "2.7.6"
  }
 },
 "nbformat": 4,
 "nbformat_minor": 0
}
