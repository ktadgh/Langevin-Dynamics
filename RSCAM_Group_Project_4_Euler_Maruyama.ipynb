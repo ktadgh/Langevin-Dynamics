{
 "cells": [
  {
   "cell_type": "markdown",
   "id": "a131ba1d",
   "metadata": {},
   "source": [
    "## Euler Maruyama"
   ]
  },
  {
   "cell_type": "markdown",
   "id": "ec9b56db",
   "metadata": {},
   "source": [
    "### 1. Running Simulations"
   ]
  },
  {
   "cell_type": "code",
   "execution_count": 2,
   "id": "d0137b06",
   "metadata": {},
   "outputs": [],
   "source": [
    "import matplotlib.pyplot as plt\n",
    "import numpy as np\n",
    "import math\n",
    "import time\n",
    "import numba\n",
    "from numba import njit, objmode"
   ]
  },
  {
   "cell_type": "code",
   "execution_count": 3,
   "id": "514d388c",
   "metadata": {},
   "outputs": [],
   "source": [
    "@numba.jit(nopython=True)\n",
    "def dot_product(v1,v2):\n",
    "    dot = 0\n",
    "    for i in range(len(v1)):\n",
    "    \n",
    "        dot += v1[i]*v2[i]\n",
    "        \n",
    "    return dot\n",
    "\n",
    "@numba.jit(nopython=True)\n",
    "def matrix_vec_multiplication(A,x):\n",
    "    v = np.zeros(len(A))\n",
    "    \n",
    "    for i in range(len(A)):\n",
    "        for j in range(len(x)):\n",
    "                v[i] += A[i][j] * x[j]\n",
    "    return v\n",
    "\n",
    "\n",
    "@numba.jit(nopython=True)\n",
    "def random_gaussian(n):\n",
    "    with objmode(y=\"float64[:]\"):\n",
    "        rng = np.random.default_rng()\n",
    "        y=rng.standard_normal(n)\n",
    "    return y\n",
    "\n",
    "@numba.jit(nopython=True)\n",
    "def fill_in_array(x0,n):\n",
    "    X = np.zeros(n)\n",
    "    for i in range(0,n):\n",
    "        X[i]=x0\n",
    "    return X\n",
    "\n",
    "\n",
    "@numba.jit(nopython=True)\n",
    "def power2(X):\n",
    "    n=len(X)\n",
    "    Xsq=fill_in_array(0,n)\n",
    "    for i in range(0,n):\n",
    "        Xsq[i]=X[i]*X[i]\n",
    "    return Xsq\n"
   ]
  },
  {
   "cell_type": "code",
   "execution_count": 4,
   "id": "2388964d",
   "metadata": {},
   "outputs": [],
   "source": [
    "@numba.jit(nopython=True)\n",
    "def EM_Step_a(Xold,Vold,dt, gamma, u,DU):\n",
    "    Vnew=Vold\n",
    "    n=len(Xold)\n",
    "    Rn=random_gaussian(n)\n",
    "    NUXold=DU(Xold)\n",
    "    Xnew = Xold + Vold* dt\n",
    "    b = - Vold* gamma -DU(Xold) \n",
    "    Vnew=Vold + b * dt + np.sqrt(2*gamma*u) * Rn \n",
    "    return Xnew, Vnew"
   ]
  },
  {
   "cell_type": "code",
   "execution_count": 5,
   "id": "7e554ba3",
   "metadata": {},
   "outputs": [],
   "source": [
    "@numba.jit(nopython=True)\n",
    "def run_simulation_a(x0, v0, gamma, u, step_function, dt,n,DU,T):\n",
    "    X0=x0\n",
    "    V0=v0\n",
    "    Xn=X0\n",
    "    Vn=V0\n",
    "    Xmean=fill_in_array(0,int(T/dt+1))\n",
    "    Xmean[0]=np.mean(X0)\n",
    "    Xmeansq=fill_in_array(0,int(T/dt+1))\n",
    "    Xmeansq[0]=np.mean(power2(X0))\n",
    "    for i in range(1,int(T/dt+1)):\n",
    "        Xn, Vn =step_function(Xn,Vn,dt, gamma, u,DU)\n",
    "        Xmean[i]=np.mean(Xn)\n",
    "        Xsq=power2(Xn)\n",
    "        Xmeansq[i]=np.mean(Xsq)\n",
    "        if i==int(0.1/dt):\n",
    "            X01=Xn\n",
    "        if i==int(0.4/dt):\n",
    "            X04=Xn\n",
    "        if i==int(2/dt):\n",
    "            X2=Xn\n",
    "        if i==int(T/dt):\n",
    "            XT=Xn\n",
    "            \n",
    "    return X01,X04,X2,XT,Xmean,Xmeansq"
   ]
  },
  {
   "cell_type": "code",
   "execution_count": 6,
   "id": "c1d17dd1",
   "metadata": {},
   "outputs": [
    {
     "name": "stdout",
     "output_type": "stream",
     "text": [
      "[1]\n"
     ]
    }
   ],
   "source": [
    "A=[1,2,3]\n",
    "print(A[0:1])"
   ]
  },
  {
   "cell_type": "code",
   "execution_count": 7,
   "id": "4ab4153a",
   "metadata": {},
   "outputs": [],
   "source": [
    "@numba.jit(nopython=True)\n",
    "def cumulative_expectation(X_mean,timesteps):\n",
    "    U=fill_in_array(0,timesteps)\n",
    "#     if timesteps > 5000:\n",
    "#         for i in range(0,1001):\n",
    "#             U[i]=X_mean[i]\n",
    "    for j in range(0,timesteps):\n",
    "        U[j]=np.sum(X_mean[0:j+1])/(j+1)\n",
    "#             print(U[j])\n",
    "    \n",
    "    return U"
   ]
  },
  {
   "cell_type": "code",
   "execution_count": 8,
   "id": "ee45c2d5",
   "metadata": {},
   "outputs": [],
   "source": [
    "def plot_results(XT,Xmean,Xmeansq,T,normalized_exact_dist):\n",
    "    t=np.linspace(0,T,int(T/dt+1))\n",
    "    Ntimesteps=int(T/dt+1)\n",
    "\n",
    "    CE=cumulative_expectation(Xmean,Ntimesteps)\n",
    "    CEsq=cumulative_expectation(Xmeansq,Ntimesteps)\n",
    "    \n",
    "    fig = plt.figure(figsize=(5, 5))\n",
    "    plt.plot(t,Xmean)\n",
    "    plt.plot(t,CE)\n",
    "    plt.show()\n",
    "    print(CE[-1])\n",
    "    print(Xmean[-1])\n",
    "    \n",
    "    fig = plt.figure(figsize=(5, 5))\n",
    "    plt.plot(t[1:],Xmeansq[1:])\n",
    "    plt.plot(t[1:],CEsq[1:])\n",
    "    plt.show()\n",
    "    print(CEsq[-1])\n",
    "    print(Xmeansq[-1])\n",
    "    \n",
    "    fig = plt.figure(figsize=(10, 10))\n",
    "    plt.hist(XT, bins=300, alpha=0.5, range=[-6,6], label='gamma',histtype=u'step',density=True)\n",
    "    plt.plot(x,normalized_exact_dist,label='Exact distribution')\n",
    "    plt.legend(loc='upper right')\n",
    "    plt.title('Distribution of X')\n",
    "    plt.xlabel('x')\n",
    "    plt.ylabel('scaled frequency')\n",
    "    plt.show()"
   ]
  },
  {
   "cell_type": "markdown",
   "id": "eb692ace",
   "metadata": {},
   "source": [
    "### 2. Potential Functions"
   ]
  },
  {
   "cell_type": "code",
   "execution_count": 9,
   "id": "71e7ade8",
   "metadata": {},
   "outputs": [],
   "source": [
    "@numba.jit(nopython=True)\n",
    "def grad_potential_a1(x_n):\n",
    "    # calculates \\nabla U(x_n)\n",
    "    return (-x_n+np.power(x_n, 3))\n",
    "\n",
    "@numba.jit(nopython=True)\n",
    "def grad_potential_a2(x_n):\n",
    "    # calculates \\nabla U(x_n)\n",
    "    n=len(x_n)\n",
    "    du=4*np.power(x_n-fill_in_array(0.9,n),3)/8 - 2*(x_n-fill_in_array(1,n))/1.2\n",
    "    return (du)\n",
    "\n",
    "@numba.jit(nopython=True)\n",
    "def grad_potential_b1(x_n):\n",
    "    # calculates \\nabla U(x_n)\n",
    "    n=len(x_n)\n",
    "    dU=fill_in_array(0,n)\n",
    "    for i in range(0,n):\n",
    "        a1= -2*np.power(x_n[i]-1,2)\n",
    "        a2= -2*np.power(x_n[i]+1,2)\n",
    "        a3=-1*np.power(x_n[i]-3,2)\n",
    "        a4=-1*np.power(x_n[i]+3,2)\n",
    "        frac1=4*(x_n[i]-1)*np.exp(a1) + 4*(x_n[i]+1)*np.exp(a2) + 2*(x_n[i]-3)*np.exp(a3)+2*(x_n[i]+3)*np.exp(a4)\n",
    "        frac2=np.exp(a1)+np.exp(a2)+np.exp(a3)+np.exp(a4)\n",
    "        dU[i]=frac1/frac2\n",
    "    return dU\n",
    "\n",
    "@numba.jit(nopython=True)\n",
    "def grad_potential_b2(x_n):\n",
    "    # calculates \\nabla U(x_n)\n",
    "    n=len(x_n)\n",
    "    dU=fill_in_array(0,n)\n",
    "    for i in range(0,n):\n",
    "        a1= -2*np.power(x_n[i]-1,2)\n",
    "        a2= -3*np.power(x_n[i]+1.1,2)\n",
    "        a3=-1*np.power(x_n[i]-3,2)\n",
    "        a4=-1*np.power(x_n[i]+3,2)\n",
    "        frac1=4*(x_n[i]-1)*np.exp(a1) + 12*(x_n[i]+1.1)*np.exp(a2) + 3*(x_n[i]+3)*np.exp(a4)+2*(x_n[i]-3)*np.exp(a3)\n",
    "        frac2=np.exp(a1)+2*np.exp(a2)+1.5*np.exp(a4)+np.exp(a3)\n",
    "        dU[i]=frac1/frac2\n",
    "    return dU\n",
    "\n",
    "@numba.jit(nopython=True)\n",
    "def grad_potential_c(x_n):\n",
    "    # calculates \\nabla U(x_n)\n",
    "    return (x_n)"
   ]
  },
  {
   "cell_type": "markdown",
   "id": "b86d62ce",
   "metadata": {},
   "source": [
    "### 3. Exact Distributions, find exact values"
   ]
  },
  {
   "cell_type": "code",
   "execution_count": 10,
   "id": "42740386",
   "metadata": {},
   "outputs": [],
   "source": [
    "@numba.jit(nopython=True)\n",
    "def evaluate_dist_a1(x_n):\n",
    "    # calculates e^{-U(x_n)}\n",
    "    U=-0.5*np.power(x_n, 2)+0.25*np.power(x_n,4)\n",
    "    exact_dist=np.exp(-U)\n",
    "    norm_dist = exact_dist / np.trapz(exact_dist,x_n)\n",
    "    return norm_dist\n",
    "\n",
    "def evaluate_dist_a2(x_n):\n",
    "    # calculates e^{-U(x_n)}\n",
    "    n=len(x_n)\n",
    "    U=-np.power(x_n-fill_in_array(1,n), 2)/1.2+np.power(x_n-fill_in_array(0.9,n),4)/8\n",
    "    exact_dist=np.exp(-U)\n",
    "    norm_dist = exact_dist / np.trapz(exact_dist,x_n)\n",
    "    return norm_dist\n",
    "\n",
    "\n",
    "@numba.jit(nopython=True)\n",
    "def evaluate_dist_b1(x_n):\n",
    "    # calculates U(x_n)\n",
    "    n=len(x_n)\n",
    "    exact_dist=fill_in_array(0,n)\n",
    "    for i in range(0,n):\n",
    "        a1= -2*np.power(x_n[i]-1,2)\n",
    "        a2= -2*np.power(x_n[i]+1,2)\n",
    "        a3=-1*np.power(x_n[i]-3,2)\n",
    "        a4=-1*np.power(x_n[i]+3,2)\n",
    "        exact_dist[i]=np.exp(a1)+np.exp(a2)+np.exp(a3)+np.exp(a4)\n",
    "        \n",
    "    norm_dist = exact_dist / np.trapz(exact_dist,x_n)\n",
    "    return norm_dist\n",
    "\n",
    "@numba.jit(nopython=True)\n",
    "def evaluate_dist_b2(x_n):\n",
    "    # calculates U(x_n)\n",
    "    n=len(x_n)\n",
    "    exact_dist=fill_in_array(0,n)\n",
    "    for i in range(0,n):\n",
    "        a1= -2*np.power(x_n[i]-1,2)\n",
    "        a2= -3*np.power(x_n[i]+1.1,2)\n",
    "        a3=-1*np.power(x_n[i]+3,2)\n",
    "        a4=-1*np.power(x_n[i]-3,2)\n",
    "        exact_dist[i]=np.exp(a1)+2*np.exp(a2)+1.5*np.exp(a3)+np.exp(a4)\n",
    "        \n",
    "    norm_dist = exact_dist / np.trapz(exact_dist,x_n)\n",
    "    return norm_dist\n",
    "\n",
    "@numba.jit(nopython=True)\n",
    "def evaluate_dist_c(x_n):\n",
    "    # calculates e^{-U(x_n)}\n",
    "    U=np.power(x_n, 2)\n",
    "    exact_dist=np.exp(-U)\n",
    "    norm_dist = exact_dist / np.trapz(exact_dist,x_n)\n",
    "    return norm_dist"
   ]
  },
  {
   "cell_type": "code",
   "execution_count": 11,
   "id": "8e66c9b5",
   "metadata": {},
   "outputs": [],
   "source": [
    "# x=np.linspace(-6,6,10001)\n",
    "# normalized_exact_dist=evaluate_dist_a1(x)\n",
    "# plt.plot(x,normalized_exact_dist,label='Exact distribution')\n",
    "# plt.xlabel('x')\n",
    "# plt.ylabel('frequency')\n",
    "# plt.title('Normalized $e^{-U(x)}$ case (a1)')\n",
    "# print('a1 distribution has expectation of x^2 : 1.041797296487154')\n",
    "# print('a1 distribution has expectation of u(x) :−0.01044932412178899')"
   ]
  },
  {
   "cell_type": "code",
   "execution_count": 12,
   "id": "6f062c51",
   "metadata": {},
   "outputs": [
    {
     "name": "stdout",
     "output_type": "stream",
     "text": [
      "a2 distribution has expectation of x^2 : 2.817515980129208\n",
      "a2 distribution has expectation of u(x) :−0.9918541927203226\n"
     ]
    },
    {
     "data": {
      "image/png": "[encoded data removed]",
      "text/plain": [
       "<Figure size 432x288 with 1 Axes>"
      ]
     },
     "metadata": {
      "needs_background": "light"
     },
     "output_type": "display_data"
    }
   ],
   "source": [
    "x=np.linspace(-6,6,10001)\n",
    "normalized_exact_dist=evaluate_dist_a2(x)\n",
    "plt.plot(x,normalized_exact_dist,label='Exact distribution')\n",
    "plt.xlabel('x')\n",
    "plt.ylabel('frequency')\n",
    "plt.title('Normalized $e^{-U(x)}$ bimodal')\n",
    "print('a2 distribution has expectation of x^2 : 2.817515980129208')\n",
    "print('a2 distribution has expectation of u(x) :−0.9918541927203226')"
   ]
  },
  {
   "cell_type": "code",
   "execution_count": 13,
   "id": "3585d322",
   "metadata": {},
   "outputs": [],
   "source": [
    "# x=np.linspace(-7,7,10001)\n",
    "# normalized_exact_dist=evaluate_dist_b1(x)\n",
    "# plt.xlabel('x')\n",
    "# plt.ylabel('frequency')\n",
    "# plt.title('Normalized $e^{-U(x)}$ case (b1)')\n",
    "# plt.plot(x,normalized_exact_dist,label='Exact distribution')\n",
    "# print('b1 distribution has expectation of x^2 : 6.082738110421955')"
   ]
  },
  {
   "cell_type": "code",
   "execution_count": 14,
   "id": "2576d634",
   "metadata": {},
   "outputs": [
    {
     "name": "stdout",
     "output_type": "stream",
     "text": [
      "b2 distribution has expectation of x^2 : 6.012076943431412\n"
     ]
    },
    {
     "data": {
      "image/png": "[encoded data removed]",
      "text/plain": [
       "<Figure size 432x288 with 1 Axes>"
      ]
     },
     "metadata": {
      "needs_background": "light"
     },
     "output_type": "display_data"
    }
   ],
   "source": [
    "x=np.linspace(-7,7,10001)\n",
    "normalized_exact_dist=evaluate_dist_b2(x)\n",
    "plt.xlabel('x')\n",
    "plt.ylabel('frequency')\n",
    "plt.title('Normalized $e^{-U(x)}$ mutlimodal')\n",
    "plt.plot(x,normalized_exact_dist,label='Exact distribution')\n",
    "print('b2 distribution has expectation of x^2 : 6.012076943431412')"
   ]
  },
  {
   "cell_type": "code",
   "execution_count": 15,
   "id": "753ecbb7",
   "metadata": {},
   "outputs": [
    {
     "name": "stdout",
     "output_type": "stream",
     "text": [
      "c distribution has expectation of x^2 : 1.0\n",
      "c distribution has expectation of u(x) : 0.5\n"
     ]
    },
    {
     "data": {
      "image/png": "[encoded data removed]",
      "text/plain": [
       "<Figure size 432x288 with 1 Axes>"
      ]
     },
     "metadata": {
      "needs_background": "light"
     },
     "output_type": "display_data"
    }
   ],
   "source": [
    "x=np.linspace(-6,6,10001)\n",
    "normalized_exact_dist=evaluate_dist_c(x)\n",
    "plt.xlabel('x')\n",
    "plt.ylabel('frequency')\n",
    "plt.title('Normalized $e^{-U(x)}$ unimodal')\n",
    "plt.plot(x,normalized_exact_dist,label='Exact distribution')\n",
    "print('c distribution has expectation of x^2 : 1.0')\n",
    "print('c distribution has expectation of u(x) : 0.5')"
   ]
  },
  {
   "cell_type": "markdown",
   "id": "70953721",
   "metadata": {},
   "source": [
    "### 4. Find convergence steps"
   ]
  },
  {
   "cell_type": "code",
   "execution_count": 16,
   "id": "a0d6f3f5",
   "metadata": {},
   "outputs": [],
   "source": [
    "@numba.jit(nopython=True)\n",
    "def find_convergence_time(x0, v0, gamma, u, step_function, dt,n,DU,T,epsilon, xsq_true_value,burnin):\n",
    "    X0=x0\n",
    "    V0=v0\n",
    "    Xn=X0\n",
    "    Vn=V0\n",
    "    Xmeansq=fill_in_array(0,int(T/dt+1))\n",
    "    counter=1\n",
    "    xsquare=0\n",
    "    CE=np.mean(power2(X0))\n",
    "    \n",
    "    #burn in period\n",
    "    for i in range(0,burnin):\n",
    "        Xn, Vn =step_function(Xn,Vn,dt, gamma, u,DU)\n",
    "        Xsq=power2(Xn)\n",
    "        xsquare=np.mean(Xsq)\n",
    "        counter=counter+1\n",
    "        CE=(CE*(counter-1)+xsquare)/counter\n",
    "    \n",
    "    while abs(CE-xsq_true_value)>epsilon and counter <=T:\n",
    "        Xn, Vn =step_function(Xn,Vn,dt, gamma, u,DU)\n",
    "        Xsq=power2(Xn)\n",
    "        xsquare=np.mean(Xsq)\n",
    "        counter=counter+1\n",
    "        CE=(CE*(counter-1)+xsquare)/counter\n",
    "        if CE > 100:\n",
    "            counter=T\n",
    "#         print(xsquare)\n",
    "#         print(CE)\n",
    "    \n",
    "    converged= False\n",
    "    if CE < 10:\n",
    "        converged= True\n",
    "    \n",
    "    if converged== False:\n",
    "        counter=0\n",
    "        \n",
    "#     print(CE)\n",
    "    \n",
    "    return counter"
   ]
  },
  {
   "cell_type": "code",
   "execution_count": 47,
   "id": "692ff11b",
   "metadata": {},
   "outputs": [],
   "source": [
    "@numba.jit(nopython=True)\n",
    "def find_convergence_time_2(x0, v0, gamma, u, step_function, dt,n,DU,T,epsilon, xsq_true_value,burnin):\n",
    "    X0=x0\n",
    "    V0=v0\n",
    "    Xn=X0\n",
    "    Vn=V0\n",
    "    Xmeansq=fill_in_array(0,int(T/dt+1))\n",
    "    counter=1\n",
    "    xsquare=0\n",
    "    exact_value=fill_in_array(xsq_true_value,n)\n",
    "    CXsq=fill_in_array(0,n)\n",
    "    \n",
    "    #burn in period\n",
    "    for i in range(0,burnin):\n",
    "        Xn, Vn =step_function(Xn,Vn,dt, gamma, u,DU)\n",
    "        Xsq=power2(Xn)\n",
    "        counter=counter+1\n",
    "        \n",
    "        CXsq=(CXsq*(counter-1)+Xsq)/counter #cumulative X^2 over time for each path\n",
    "        \n",
    "        error_n=np.absolute(CXsq - exact_value)\n",
    "        error=np.mean(error_n)\n",
    "        \n",
    "    while abs(error)>epsilon and counter <=T:\n",
    "        Xn, Vn =step_function(Xn,Vn,dt, gamma, u,DU)\n",
    "        Xsq=power2(Xn)\n",
    "        counter=counter+1\n",
    "        CXsq=(CXsq*(counter-1)+Xsq)/counter #cumulative X^2 over time for each path\n",
    "        error_n=np.absolute(CXsq - exact_value)\n",
    "        error=np.mean(error_n)\n",
    "        if np.mean(CXsq) > 100:\n",
    "            counter=T\n",
    "    \n",
    "    converged= False\n",
    "    if np.mean(CXsq) < 10:\n",
    "        converged= True\n",
    "    \n",
    "    if converged== False:\n",
    "        counter=0\n",
    "        \n",
    "#     print(CE)\n",
    "#     print(error)\n",
    "    return counter"
   ]
  },
  {
   "cell_type": "markdown",
   "id": "809c0d98",
   "metadata": {},
   "source": [
    "### CONVERGENCE FOR A2"
   ]
  },
  {
   "cell_type": "code",
   "execution_count": 40,
   "id": "5cc48ac6",
   "metadata": {},
   "outputs": [
    {
     "data": {
      "text/plain": [
       "array([1.00000000e-03, 1.24709047e-03, 1.55523463e-03, 1.93951828e-03,\n",
       "       2.41875476e-03, 3.01640600e-03, 3.76173116e-03, 4.69121907e-03,\n",
       "       5.85037458e-03, 7.29594636e-03, 9.09870515e-03, 1.13469085e-02,\n",
       "       1.41506214e-02, 1.76471050e-02, 2.20075364e-02, 2.74453888e-02,\n",
       "       3.42268827e-02, 4.26840192e-02, 5.32308334e-02, 6.63836648e-02,\n",
       "       8.27864355e-02, 1.03242174e-01, 1.28752331e-01, 1.60565805e-01,\n",
       "       2.00240085e-01, 2.49717501e-01, 3.11420314e-01, 3.88369305e-01,\n",
       "       4.84331658e-01, 6.04005393e-01, 7.53249367e-01, 9.39370105e-01,\n",
       "       1.17147950e+00, 1.46094092e+00, 1.82192549e+00, 2.27210591e+00,\n",
       "       2.83352162e+00, 3.53365780e+00, 4.40679095e+00, 5.49566698e+00,\n",
       "       6.85359390e+00, 8.54705161e+00, 1.06589466e+01, 1.32926707e+01,\n",
       "       1.65771629e+01, 2.06732218e+01, 2.57813778e+01, 3.21517104e+01,\n",
       "       4.00960915e+01, 5.00034535e+01])"
      ]
     },
     "execution_count": 40,
     "metadata": {},
     "output_type": "execute_result"
    }
   ],
   "source": [
    "gammas_set=np.logspace(-3,1.699,50)\n",
    "gammas_set"
   ]
  },
  {
   "cell_type": "code",
   "execution_count": 48,
   "id": "8511f6db",
   "metadata": {
    "collapsed": true
   },
   "outputs": [
    {
     "name": "stdout",
     "output_type": "stream",
     "text": [
      "gamma is 0.001\n",
      "time needed for python to run 11.75700569152832\n",
      "steps to reach convergence 0.0\n",
      "gamma is 0.0012470904663564033\n",
      "time needed for python to run 11.165578126907349\n",
      "steps to reach convergence 0.0\n",
      "gamma is 0.0015552346312770332\n",
      "time needed for python to run 11.162246227264404\n",
      "steps to reach convergence 0.0\n",
      "gamma is 0.0019395182816129045\n",
      "time needed for python to run 11.084485530853271\n",
      "steps to reach convergence 0.0\n",
      "gamma is 0.0024187547583234097\n",
      "time needed for python to run 11.188671350479126\n",
      "steps to reach convergence 0.0\n",
      "gamma is 0.0030164059995593105\n",
      "time needed for python to run 11.200044870376587\n",
      "steps to reach convergence 0.0\n",
      "gamma is 0.003761731164710674\n",
      "time needed for python to run 11.217443943023682\n",
      "steps to reach convergence 0.0\n",
      "gamma is 0.004691219072506456\n",
      "time needed for python to run 11.184062957763672\n",
      "steps to reach convergence 0.0\n",
      "gamma is 0.0058503745809121354\n",
      "time needed for python to run 11.260817527770996\n",
      "steps to reach convergence 0.0\n",
      "gamma is 0.007295946364469363\n",
      "time needed for python to run 11.412560224533081\n",
      "steps to reach convergence 0.0\n",
      "gamma is 0.009098705154177404\n",
      "time needed for python to run 11.618491888046265\n",
      "steps to reach convergence 0.0\n",
      "gamma is 0.011346908453962521\n",
      "time needed for python to run 11.333788871765137\n",
      "steps to reach convergence 0.0\n",
      "gamma is 0.014150621355555537\n",
      "time needed for python to run 11.411178588867188\n",
      "steps to reach convergence 0.0\n",
      "gamma is 0.017647104985532645\n",
      "time needed for python to run 11.445016145706177\n",
      "steps to reach convergence 0.0\n",
      "gamma is 0.022007536386248326\n",
      "time needed for python to run 11.480270385742188\n",
      "steps to reach convergence 0.0\n",
      "gamma is 0.027445388815281958\n",
      "time needed for python to run 11.681789875030518\n",
      "steps to reach convergence 0.0\n",
      "gamma is 0.03422688273698281\n",
      "time needed for python to run 11.690460443496704\n",
      "steps to reach convergence 0.0\n",
      "gamma is 0.042684019154389845\n",
      "time needed for python to run 11.684866666793823\n",
      "steps to reach convergence 0.0\n",
      "gamma is 0.05323083335321371\n",
      "time needed for python to run 14.455854892730713\n",
      "steps to reach convergence 0.0\n",
      "gamma is 0.06638366479099932\n",
      "time needed for python to run 257.1183605194092\n",
      "steps to reach convergence 0.0\n",
      "gamma is 0.08278643548265453\n",
      "time needed for python to run 393.38883924484253\n",
      "steps to reach convergence 0.0\n",
      "gamma is 0.10324217443404794\n",
      "time needed for python to run 437.53092980384827\n",
      "steps to reach convergence 1000001.0\n",
      "gamma is 0.12875233146260612\n",
      "time needed for python to run 437.15220379829407\n",
      "steps to reach convergence 1000001.0\n",
      "gamma is 0.1605658050881757\n",
      "time needed for python to run 444.74963879585266\n",
      "steps to reach convergence 1000001.0\n",
      "gamma is 0.2002400847483044\n",
      "time needed for python to run 443.8529689311981\n",
      "steps to reach convergence 1000001.0\n",
      "gamma is 0.24971750067200893\n",
      "time needed for python to run 440.8436450958252\n",
      "steps to reach convergence 1000001.0\n",
      "gamma is 0.3114203143704111\n",
      "time needed for python to run 400.31010341644287\n",
      "steps to reach convergence 907156.4\n",
      "gamma is 0.3883693050810541\n",
      "time needed for python to run 357.625821352005\n",
      "steps to reach convergence 807997.1\n",
      "gamma is 0.48433165779204407\n",
      "time needed for python to run 342.1173405647278\n",
      "steps to reach convergence 772744.4\n",
      "gamma is 0.6040053929870508\n",
      "time needed for python to run 346.4485971927643\n",
      "steps to reach convergence 781896.8\n",
      "gamma is 0.753249367222004\n",
      "time needed for python to run 330.44921040534973\n",
      "steps to reach convergence 744765.6\n",
      "gamma is 0.9393701046515556\n",
      "time needed for python to run 334.54610681533813\n",
      "steps to reach convergence 751273.5\n",
      "gamma is 1.171479501891172\n",
      "time needed for python to run 354.6531834602356\n",
      "steps to reach convergence 799349.6\n",
      "gamma is 1.4609409183404287\n",
      "time needed for python to run 377.782674074173\n",
      "steps to reach convergence 849991.4\n",
      "gamma is 1.8219254911723193\n",
      "time needed for python to run 433.41996574401855\n",
      "steps to reach convergence 978600.6\n",
      "gamma is 2.272105910452707\n",
      "time needed for python to run 442.0032637119293\n",
      "steps to reach convergence 995124.8\n",
      "gamma is 2.83352161947761\n",
      "time needed for python to run 451.5185718536377\n",
      "steps to reach convergence 1000001.0\n",
      "gamma is 3.5336577978652834\n",
      "time needed for python to run 464.8443114757538\n",
      "steps to reach convergence 1000001.0\n",
      "gamma is 4.406790951083763\n",
      "time needed for python to run 463.4437873363495\n",
      "steps to reach convergence 1000001.0\n",
      "gamma is 5.495666982322228\n"
     ]
    },
    {
     "ename": "KeyboardInterrupt",
     "evalue": "",
     "output_type": "error",
     "traceback": [
      "\u001b[1;31m---------------------------------------------------------------------------\u001b[0m",
      "\u001b[1;31mKeyboardInterrupt\u001b[0m                         Traceback (most recent call last)",
      "Input \u001b[1;32mIn [48]\u001b[0m, in \u001b[0;36m<cell line: 13>\u001b[1;34m()\u001b[0m\n\u001b[0;32m     17\u001b[0m start_time \u001b[38;5;241m=\u001b[39m time\u001b[38;5;241m.\u001b[39mtime()\n\u001b[0;32m     18\u001b[0m \u001b[38;5;28;01mfor\u001b[39;00m i \u001b[38;5;129;01min\u001b[39;00m \u001b[38;5;28mrange\u001b[39m(\u001b[38;5;241m0\u001b[39m,\u001b[38;5;241m10\u001b[39m):\n\u001b[1;32m---> 19\u001b[0m     conv_steps\u001b[38;5;241m=\u001b[39m\u001b[43mfind_convergence_time_2\u001b[49m\u001b[43m(\u001b[49m\u001b[43mx0\u001b[49m\u001b[43m,\u001b[49m\u001b[43m \u001b[49m\u001b[43mv0\u001b[49m\u001b[43m,\u001b[49m\u001b[43m \u001b[49m\u001b[43mgamma\u001b[49m\u001b[43m,\u001b[49m\u001b[43m \u001b[49m\u001b[43mu\u001b[49m\u001b[43m,\u001b[49m\u001b[43m \u001b[49m\u001b[43mEM_Step_a\u001b[49m\u001b[43m,\u001b[49m\u001b[43m \u001b[49m\u001b[43mdt\u001b[49m\u001b[43m,\u001b[49m\u001b[43mn\u001b[49m\u001b[43m,\u001b[49m\u001b[43mgrad_potential_a2\u001b[49m\u001b[43m,\u001b[49m\u001b[43mT\u001b[49m\u001b[43m,\u001b[49m\u001b[43mepsilon\u001b[49m\u001b[43m,\u001b[49m\u001b[43mxsq_true_value\u001b[49m\u001b[43m,\u001b[49m\u001b[38;5;241;43m20000\u001b[39;49m\u001b[43m)\u001b[49m\n\u001b[0;32m     20\u001b[0m     steps_for_gamma_a2[i]\u001b[38;5;241m=\u001b[39mconv_steps\n\u001b[0;32m     22\u001b[0m \u001b[38;5;28;01mif\u001b[39;00m np\u001b[38;5;241m.\u001b[39mall(steps_for_gamma_a2):\n",
      "File \u001b[1;32m_generator.pyx:4745\u001b[0m, in \u001b[0;36mnumpy.random._generator.default_rng\u001b[1;34m()\u001b[0m\n",
      "File \u001b[1;32m_pcg64.pyx:121\u001b[0m, in \u001b[0;36mnumpy.random._pcg64.PCG64.__init__\u001b[1;34m()\u001b[0m\n",
      "File \u001b[1;32mbit_generator.pyx:522\u001b[0m, in \u001b[0;36mnumpy.random.bit_generator.BitGenerator.__init__\u001b[1;34m()\u001b[0m\n",
      "File \u001b[1;32m~\\anaconda3\\envs\\pp-proj2\\lib\\abc.py:117\u001b[0m, in \u001b[0;36mABCMeta.__instancecheck__\u001b[1;34m(cls, instance)\u001b[0m\n\u001b[0;32m    111\u001b[0m     \u001b[38;5;124;03m\"\"\"Register a virtual subclass of an ABC.\u001b[39;00m\n\u001b[0;32m    112\u001b[0m \n\u001b[0;32m    113\u001b[0m \u001b[38;5;124;03m    Returns the subclass, to allow usage as a class decorator.\u001b[39;00m\n\u001b[0;32m    114\u001b[0m \u001b[38;5;124;03m    \"\"\"\u001b[39;00m\n\u001b[0;32m    115\u001b[0m     \u001b[38;5;28;01mreturn\u001b[39;00m _abc_register(\u001b[38;5;28mcls\u001b[39m, subclass)\n\u001b[1;32m--> 117\u001b[0m \u001b[38;5;28;01mdef\u001b[39;00m \u001b[38;5;21m__instancecheck__\u001b[39m(\u001b[38;5;28mcls\u001b[39m, instance):\n\u001b[0;32m    118\u001b[0m     \u001b[38;5;124;03m\"\"\"Override for isinstance(instance, cls).\"\"\"\u001b[39;00m\n\u001b[0;32m    119\u001b[0m     \u001b[38;5;28;01mreturn\u001b[39;00m _abc_instancecheck(\u001b[38;5;28mcls\u001b[39m, instance)\n",
      "\u001b[1;31mKeyboardInterrupt\u001b[0m: "
     ]
    }
   ],
   "source": [
    "xsq_true_value=2.817515980129208\n",
    "u = 0.01\n",
    "T=1000000\n",
    "epsilon=0.1\n",
    "dt=0.01 # step size\n",
    "n=100 # number of paths\n",
    "x0 = 1*random_gaussian(n)\n",
    "v0 = 1*random_gaussian(n)\n",
    "\n",
    "number_of_steps_a2=np.zeros(50)\n",
    "c=0\n",
    "\n",
    "for gamma in gammas_set:\n",
    "    print(f'gamma is {gamma}')\n",
    "    steps_for_gamma_a2=np.zeros(10)\n",
    "    \n",
    "    start_time = time.time()\n",
    "    for i in range(0,10):\n",
    "        conv_steps=find_convergence_time_2(x0, v0, gamma, u, EM_Step_a, dt,n,grad_potential_a2,T,epsilon,xsq_true_value,20000)\n",
    "        steps_for_gamma_a2[i]=conv_steps\n",
    "        \n",
    "    if np.all(steps_for_gamma_a2):\n",
    "        number_of_steps_a2[c]=np.mean(steps_for_gamma_a2)\n",
    "    else:\n",
    "        number_of_steps_a2[c]=0\n",
    "        \n",
    "    print(f'time needed for python to run {time.time()-start_time}')\n",
    "    print(f'steps to reach convergence {number_of_steps_a2[c]}')\n",
    "    c=c+1\n",
    "    \n",
    "\n",
    "print(number_of_steps_a2)"
   ]
  },
  {
   "cell_type": "code",
   "execution_count": 50,
   "id": "3a8a0630",
   "metadata": {},
   "outputs": [],
   "source": [
    "number_of_steps_a2=[      0,        0,        0,        0,        0,        0,        0,\n",
    "       0,        0,        0,        0,        0,        0,        0,\n",
    "       0,        0,        0,        0,        0,        0,        0,\n",
    " 1000001,  1000001,  1000001,  1000001,  1000001,   907156.4,  807997.1,\n",
    "  772744.4,  781896.8,  744765.6,  751273.5,  799349.6,  849991.4,  978600.6,\n",
    "  995124.8, 1000001,  1000001,  1000001,        1000001,       1000001,        1000001,\n",
    "    1000001,   1000001,   1000001,      1000001,      1000001,    1000001,      1000001,\n",
    "      1000001 ]\n"
   ]
  },
  {
   "cell_type": "code",
   "execution_count": 51,
   "id": "6577bf9f",
   "metadata": {},
   "outputs": [
    {
     "name": "stdout",
     "output_type": "stream",
     "text": [
      "[0, 0, 0, 0, 0, 0, 0, 0, 0, 0, 0, 0, 0, 0, 0, 0, 0, 0, 0, 0, 0, 1000001, 1000001, 1000001, 1000001, 1000001, 907156.4, 807997.1, 772744.4, 781896.8, 744765.6, 751273.5, 799349.6, 849991.4, 978600.6, 995124.8, 1000001, 1000001, 1000001, 1000001, 1000001, 1000001, 1000001, 1000001, 1000001, 1000001, 1000001, 1000001, 1000001, 1000001]\n"
     ]
    }
   ],
   "source": [
    "print(number_of_steps_a2)"
   ]
  },
  {
   "cell_type": "code",
   "execution_count": 55,
   "id": "fd634fd1",
   "metadata": {},
   "outputs": [
    {
     "data": {
      "text/plain": [
       "Text(0.5, 1.0, 'Number of steps to reach convergence for Euler Maruyama (bimodal)')"
      ]
     },
     "execution_count": 55,
     "metadata": {},
     "output_type": "execute_result"
    },
    {
     "data": {
      "image/png": "[encoded data removed]",
      "text/plain": [
       "<Figure size 432x288 with 1 Axes>"
      ]
     },
     "metadata": {
      "needs_background": "light"
     },
     "output_type": "display_data"
    }
   ],
   "source": [
    "plt.loglog(gammas_set[21:],number_of_steps_a2[21:])\n",
    "plt.xlim([10**(-3), 50])\n",
    "plt.xlabel('$\\gamma$')\n",
    "plt.ylabel('Number of steps')\n",
    "plt.title('Number of steps to reach convergence for Euler Maruyama (bimodal)')"
   ]
  },
  {
   "cell_type": "code",
   "execution_count": 17,
   "id": "2b3eda3c",
   "metadata": {},
   "outputs": [
    {
     "data": {
      "text/plain": [
       "Text(0.5, 1.0, 'Number of steps to reach convergence for Euler Maruyama')"
      ]
     },
     "execution_count": 17,
     "metadata": {},
     "output_type": "execute_result"
    },
    {
     "data": {
      "image/png": "[encoded data removed]",
      "text/plain": [
       "<Figure size 432x288 with 1 Axes>"
      ]
     },
     "metadata": {
      "needs_background": "light"
     },
     "output_type": "display_data"
    }
   ],
   "source": [
    "plt.loglog(gammas_set[20:],number_of_steps[20:])\n",
    "plt.xlim([10**(-3), 50])\n",
    "plt.xlabel('$\\gamma$')\n",
    "plt.ylabel('Number of steps')\n",
    "plt.title('Number of steps to reach convergence for Euler Maruyama')"
   ]
  },
  {
   "cell_type": "markdown",
   "id": "a50a610c",
   "metadata": {},
   "source": [
    "### CONVERGENCE FOR B2:"
   ]
  },
  {
   "cell_type": "markdown",
   "id": "f124f126",
   "metadata": {},
   "source": [
    "Counting number of steps to get close to the expectation of $X^2$"
   ]
  },
  {
   "cell_type": "code",
   "execution_count": 56,
   "id": "032320bd",
   "metadata": {},
   "outputs": [
    {
     "data": {
      "text/plain": [
       "array([1.00000000e-03, 1.24709047e-03, 1.55523463e-03, 1.93951828e-03,\n",
       "       2.41875476e-03, 3.01640600e-03, 3.76173116e-03, 4.69121907e-03,\n",
       "       5.85037458e-03, 7.29594636e-03, 9.09870515e-03, 1.13469085e-02,\n",
       "       1.41506214e-02, 1.76471050e-02, 2.20075364e-02, 2.74453888e-02,\n",
       "       3.42268827e-02, 4.26840192e-02, 5.32308334e-02, 6.63836648e-02,\n",
       "       8.27864355e-02, 1.03242174e-01, 1.28752331e-01, 1.60565805e-01,\n",
       "       2.00240085e-01, 2.49717501e-01, 3.11420314e-01, 3.88369305e-01,\n",
       "       4.84331658e-01, 6.04005393e-01, 7.53249367e-01, 9.39370105e-01,\n",
       "       1.17147950e+00, 1.46094092e+00, 1.82192549e+00, 2.27210591e+00,\n",
       "       2.83352162e+00, 3.53365780e+00, 4.40679095e+00, 5.49566698e+00,\n",
       "       6.85359390e+00, 8.54705161e+00, 1.06589466e+01, 1.32926707e+01,\n",
       "       1.65771629e+01, 2.06732218e+01, 2.57813778e+01, 3.21517104e+01,\n",
       "       4.00960915e+01, 5.00034535e+01])"
      ]
     },
     "execution_count": 56,
     "metadata": {},
     "output_type": "execute_result"
    }
   ],
   "source": [
    "gammas_set=np.logspace(-3,1.699,50)\n",
    "gammas_set"
   ]
  },
  {
   "cell_type": "code",
   "execution_count": 75,
   "id": "528cb3ac",
   "metadata": {},
   "outputs": [],
   "source": [
    "number_of_steps_b2=np.zeros(50)"
   ]
  },
  {
   "cell_type": "code",
   "execution_count": 57,
   "id": "86acb737",
   "metadata": {},
   "outputs": [],
   "source": [
    "xsq_true_value=6.012076943431412\n",
    "u = 0.01\n",
    "T=1000000\n",
    "epsilon=0.1\n",
    "dt=0.01 # step size\n",
    "n=100 # number of paths\n",
    "x0 = 1*random_gaussian(n)\n",
    "v0 = 1*random_gaussian(n)"
   ]
  },
  {
   "cell_type": "code",
   "execution_count": 58,
   "id": "3cd07a9b",
   "metadata": {
    "collapsed": true
   },
   "outputs": [
    {
     "ename": "ZeroDivisionError",
     "evalue": "division by zero",
     "output_type": "error",
     "traceback": [
      "\u001b[1;31m---------------------------------------------------------------------------\u001b[0m",
      "\u001b[1;31mZeroDivisionError\u001b[0m                         Traceback (most recent call last)",
      "Input \u001b[1;32mIn [58]\u001b[0m, in \u001b[0;36m<cell line: 3>\u001b[1;34m()\u001b[0m\n\u001b[0;32m      1\u001b[0m gamma\u001b[38;5;241m=\u001b[39mgammas_set[\u001b[38;5;241m0\u001b[39m]\n\u001b[0;32m      2\u001b[0m start_time \u001b[38;5;241m=\u001b[39m time\u001b[38;5;241m.\u001b[39mtime()\n\u001b[1;32m----> 3\u001b[0m conv_steps\u001b[38;5;241m=\u001b[39m\u001b[43mfind_convergence_time_2\u001b[49m\u001b[43m(\u001b[49m\u001b[43mx0\u001b[49m\u001b[43m,\u001b[49m\u001b[43m \u001b[49m\u001b[43mv0\u001b[49m\u001b[43m,\u001b[49m\u001b[43m \u001b[49m\u001b[43mgamma\u001b[49m\u001b[43m,\u001b[49m\u001b[43m \u001b[49m\u001b[43mu\u001b[49m\u001b[43m,\u001b[49m\u001b[43m \u001b[49m\u001b[43mEM_Step_a\u001b[49m\u001b[43m,\u001b[49m\u001b[43m \u001b[49m\u001b[43mdt\u001b[49m\u001b[43m,\u001b[49m\u001b[43mn\u001b[49m\u001b[43m,\u001b[49m\u001b[43mgrad_potential_b2\u001b[49m\u001b[43m,\u001b[49m\u001b[43mT\u001b[49m\u001b[43m,\u001b[49m\u001b[43mepsilon\u001b[49m\u001b[43m,\u001b[49m\u001b[43mxsq_true_value\u001b[49m\u001b[43m,\u001b[49m\u001b[38;5;241;43m20000\u001b[39;49m\u001b[43m)\u001b[49m\n\u001b[0;32m      4\u001b[0m \u001b[38;5;28mprint\u001b[39m(\u001b[38;5;124mf\u001b[39m\u001b[38;5;124m'\u001b[39m\u001b[38;5;124mgamma is \u001b[39m\u001b[38;5;132;01m{\u001b[39;00mgamma\u001b[38;5;132;01m}\u001b[39;00m\u001b[38;5;124m'\u001b[39m)\n\u001b[0;32m      5\u001b[0m \u001b[38;5;28mprint\u001b[39m(\u001b[38;5;124mf\u001b[39m\u001b[38;5;124m'\u001b[39m\u001b[38;5;124mtime needed for python to run \u001b[39m\u001b[38;5;132;01m{\u001b[39;00mtime\u001b[38;5;241m.\u001b[39mtime()\u001b[38;5;241m-\u001b[39mstart_time\u001b[38;5;132;01m}\u001b[39;00m\u001b[38;5;124m'\u001b[39m)\n",
      "\u001b[1;31mZeroDivisionError\u001b[0m: division by zero"
     ]
    }
   ],
   "source": [
    "gamma=gammas_set[0]\n",
    "start_time = time.time()\n",
    "conv_steps=find_convergence_time_2(x0, v0, gamma, u, EM_Step_a, dt,n,grad_potential_b2,T,epsilon,xsq_true_value,20000)\n",
    "print(f'gamma is {gamma}')\n",
    "print(f'time needed for python to run {time.time()-start_time}')\n",
    "print(f'steps to reach convergence {conv_steps}')"
   ]
  },
  {
   "cell_type": "code",
   "execution_count": 59,
   "id": "156b934f",
   "metadata": {
    "collapsed": true
   },
   "outputs": [
    {
     "ename": "ZeroDivisionError",
     "evalue": "division by zero",
     "output_type": "error",
     "traceback": [
      "\u001b[1;31m---------------------------------------------------------------------------\u001b[0m",
      "\u001b[1;31mZeroDivisionError\u001b[0m                         Traceback (most recent call last)",
      "Input \u001b[1;32mIn [59]\u001b[0m, in \u001b[0;36m<cell line: 3>\u001b[1;34m()\u001b[0m\n\u001b[0;32m      1\u001b[0m gamma\u001b[38;5;241m=\u001b[39mgammas_set[\u001b[38;5;241m1\u001b[39m]\n\u001b[0;32m      2\u001b[0m start_time \u001b[38;5;241m=\u001b[39m time\u001b[38;5;241m.\u001b[39mtime()\n\u001b[1;32m----> 3\u001b[0m conv_steps\u001b[38;5;241m=\u001b[39m\u001b[43mfind_convergence_time_2\u001b[49m\u001b[43m(\u001b[49m\u001b[43mx0\u001b[49m\u001b[43m,\u001b[49m\u001b[43m \u001b[49m\u001b[43mv0\u001b[49m\u001b[43m,\u001b[49m\u001b[43m \u001b[49m\u001b[43mgamma\u001b[49m\u001b[43m,\u001b[49m\u001b[43m \u001b[49m\u001b[43mu\u001b[49m\u001b[43m,\u001b[49m\u001b[43m \u001b[49m\u001b[43mEM_Step_a\u001b[49m\u001b[43m,\u001b[49m\u001b[43m \u001b[49m\u001b[43mdt\u001b[49m\u001b[43m,\u001b[49m\u001b[43mn\u001b[49m\u001b[43m,\u001b[49m\u001b[43mgrad_potential_b2\u001b[49m\u001b[43m,\u001b[49m\u001b[43mT\u001b[49m\u001b[43m,\u001b[49m\u001b[43mepsilon\u001b[49m\u001b[43m,\u001b[49m\u001b[43mxsq_true_value\u001b[49m\u001b[43m,\u001b[49m\u001b[38;5;241;43m20000\u001b[39;49m\u001b[43m)\u001b[49m\n\u001b[0;32m      4\u001b[0m \u001b[38;5;28mprint\u001b[39m(\u001b[38;5;124mf\u001b[39m\u001b[38;5;124m'\u001b[39m\u001b[38;5;124mgamma is \u001b[39m\u001b[38;5;132;01m{\u001b[39;00mgamma\u001b[38;5;132;01m}\u001b[39;00m\u001b[38;5;124m'\u001b[39m)\n\u001b[0;32m      5\u001b[0m \u001b[38;5;28mprint\u001b[39m(\u001b[38;5;124mf\u001b[39m\u001b[38;5;124m'\u001b[39m\u001b[38;5;124mtime needed for python to run \u001b[39m\u001b[38;5;132;01m{\u001b[39;00mtime\u001b[38;5;241m.\u001b[39mtime()\u001b[38;5;241m-\u001b[39mstart_time\u001b[38;5;132;01m}\u001b[39;00m\u001b[38;5;124m'\u001b[39m)\n",
      "\u001b[1;31mZeroDivisionError\u001b[0m: division by zero"
     ]
    }
   ],
   "source": [
    "gamma=gammas_set[1]\n",
    "start_time = time.time()\n",
    "conv_steps=find_convergence_time_2(x0, v0, gamma, u, EM_Step_a, dt,n,grad_potential_b2,T,epsilon,xsq_true_value,20000)\n",
    "print(f'gamma is {gamma}')\n",
    "print(f'time needed for python to run {time.time()-start_time}')\n",
    "print(f'steps to reach convergence {conv_steps}')"
   ]
  },
  {
   "cell_type": "code",
   "execution_count": 60,
   "id": "b5da09c4",
   "metadata": {
    "collapsed": true
   },
   "outputs": [
    {
     "ename": "ZeroDivisionError",
     "evalue": "division by zero",
     "output_type": "error",
     "traceback": [
      "\u001b[1;31m---------------------------------------------------------------------------\u001b[0m",
      "\u001b[1;31mZeroDivisionError\u001b[0m                         Traceback (most recent call last)",
      "Input \u001b[1;32mIn [60]\u001b[0m, in \u001b[0;36m<cell line: 3>\u001b[1;34m()\u001b[0m\n\u001b[0;32m      1\u001b[0m gamma\u001b[38;5;241m=\u001b[39mgammas_set[\u001b[38;5;241m2\u001b[39m]\n\u001b[0;32m      2\u001b[0m start_time \u001b[38;5;241m=\u001b[39m time\u001b[38;5;241m.\u001b[39mtime()\n\u001b[1;32m----> 3\u001b[0m conv_steps\u001b[38;5;241m=\u001b[39m\u001b[43mfind_convergence_time_2\u001b[49m\u001b[43m(\u001b[49m\u001b[43mx0\u001b[49m\u001b[43m,\u001b[49m\u001b[43m \u001b[49m\u001b[43mv0\u001b[49m\u001b[43m,\u001b[49m\u001b[43m \u001b[49m\u001b[43mgamma\u001b[49m\u001b[43m,\u001b[49m\u001b[43m \u001b[49m\u001b[43mu\u001b[49m\u001b[43m,\u001b[49m\u001b[43m \u001b[49m\u001b[43mEM_Step_a\u001b[49m\u001b[43m,\u001b[49m\u001b[43m \u001b[49m\u001b[43mdt\u001b[49m\u001b[43m,\u001b[49m\u001b[43mn\u001b[49m\u001b[43m,\u001b[49m\u001b[43mgrad_potential_b2\u001b[49m\u001b[43m,\u001b[49m\u001b[43mT\u001b[49m\u001b[43m,\u001b[49m\u001b[43mepsilon\u001b[49m\u001b[43m,\u001b[49m\u001b[43mxsq_true_value\u001b[49m\u001b[43m,\u001b[49m\u001b[38;5;241;43m20000\u001b[39;49m\u001b[43m)\u001b[49m\n\u001b[0;32m      4\u001b[0m \u001b[38;5;28mprint\u001b[39m(\u001b[38;5;124mf\u001b[39m\u001b[38;5;124m'\u001b[39m\u001b[38;5;124mgamma is \u001b[39m\u001b[38;5;132;01m{\u001b[39;00mgamma\u001b[38;5;132;01m}\u001b[39;00m\u001b[38;5;124m'\u001b[39m)\n\u001b[0;32m      5\u001b[0m \u001b[38;5;28mprint\u001b[39m(\u001b[38;5;124mf\u001b[39m\u001b[38;5;124m'\u001b[39m\u001b[38;5;124mtime needed for python to run \u001b[39m\u001b[38;5;132;01m{\u001b[39;00mtime\u001b[38;5;241m.\u001b[39mtime()\u001b[38;5;241m-\u001b[39mstart_time\u001b[38;5;132;01m}\u001b[39;00m\u001b[38;5;124m'\u001b[39m)\n",
      "\u001b[1;31mZeroDivisionError\u001b[0m: division by zero"
     ]
    }
   ],
   "source": [
    "gamma=gammas_set[2]\n",
    "start_time = time.time()\n",
    "conv_steps=find_convergence_time_2(x0, v0, gamma, u, EM_Step_a, dt,n,grad_potential_b2,T,epsilon,xsq_true_value,20000)\n",
    "print(f'gamma is {gamma}')\n",
    "print(f'time needed for python to run {time.time()-start_time}')\n",
    "print(f'steps to reach convergence {conv_steps}')"
   ]
  },
  {
   "cell_type": "code",
   "execution_count": 61,
   "id": "82b7bd04",
   "metadata": {
    "collapsed": true
   },
   "outputs": [
    {
     "ename": "ZeroDivisionError",
     "evalue": "division by zero",
     "output_type": "error",
     "traceback": [
      "\u001b[1;31m---------------------------------------------------------------------------\u001b[0m",
      "\u001b[1;31mZeroDivisionError\u001b[0m                         Traceback (most recent call last)",
      "Input \u001b[1;32mIn [61]\u001b[0m, in \u001b[0;36m<cell line: 3>\u001b[1;34m()\u001b[0m\n\u001b[0;32m      1\u001b[0m gamma\u001b[38;5;241m=\u001b[39mgammas_set[\u001b[38;5;241m3\u001b[39m]\n\u001b[0;32m      2\u001b[0m start_time \u001b[38;5;241m=\u001b[39m time\u001b[38;5;241m.\u001b[39mtime()\n\u001b[1;32m----> 3\u001b[0m conv_steps\u001b[38;5;241m=\u001b[39m\u001b[43mfind_convergence_time_2\u001b[49m\u001b[43m(\u001b[49m\u001b[43mx0\u001b[49m\u001b[43m,\u001b[49m\u001b[43m \u001b[49m\u001b[43mv0\u001b[49m\u001b[43m,\u001b[49m\u001b[43m \u001b[49m\u001b[43mgamma\u001b[49m\u001b[43m,\u001b[49m\u001b[43m \u001b[49m\u001b[43mu\u001b[49m\u001b[43m,\u001b[49m\u001b[43m \u001b[49m\u001b[43mEM_Step_a\u001b[49m\u001b[43m,\u001b[49m\u001b[43m \u001b[49m\u001b[43mdt\u001b[49m\u001b[43m,\u001b[49m\u001b[43mn\u001b[49m\u001b[43m,\u001b[49m\u001b[43mgrad_potential_b2\u001b[49m\u001b[43m,\u001b[49m\u001b[43mT\u001b[49m\u001b[43m,\u001b[49m\u001b[43mepsilon\u001b[49m\u001b[43m,\u001b[49m\u001b[43mxsq_true_value\u001b[49m\u001b[43m,\u001b[49m\u001b[38;5;241;43m20000\u001b[39;49m\u001b[43m)\u001b[49m\n\u001b[0;32m      4\u001b[0m \u001b[38;5;28mprint\u001b[39m(\u001b[38;5;124mf\u001b[39m\u001b[38;5;124m'\u001b[39m\u001b[38;5;124mgamma is \u001b[39m\u001b[38;5;132;01m{\u001b[39;00mgamma\u001b[38;5;132;01m}\u001b[39;00m\u001b[38;5;124m'\u001b[39m)\n\u001b[0;32m      5\u001b[0m \u001b[38;5;28mprint\u001b[39m(\u001b[38;5;124mf\u001b[39m\u001b[38;5;124m'\u001b[39m\u001b[38;5;124mtime needed for python to run \u001b[39m\u001b[38;5;132;01m{\u001b[39;00mtime\u001b[38;5;241m.\u001b[39mtime()\u001b[38;5;241m-\u001b[39mstart_time\u001b[38;5;132;01m}\u001b[39;00m\u001b[38;5;124m'\u001b[39m)\n",
      "\u001b[1;31mZeroDivisionError\u001b[0m: division by zero"
     ]
    }
   ],
   "source": [
    "gamma=gammas_set[3]\n",
    "start_time = time.time()\n",
    "conv_steps=find_convergence_time_2(x0, v0, gamma, u, EM_Step_a, dt,n,grad_potential_b2,T,epsilon,xsq_true_value,20000)\n",
    "print(f'gamma is {gamma}')\n",
    "print(f'time needed for python to run {time.time()-start_time}')\n",
    "print(f'steps to reach convergence {conv_steps}')"
   ]
  },
  {
   "cell_type": "code",
   "execution_count": 62,
   "id": "0cb69d17",
   "metadata": {
    "collapsed": true
   },
   "outputs": [
    {
     "ename": "ZeroDivisionError",
     "evalue": "division by zero",
     "output_type": "error",
     "traceback": [
      "\u001b[1;31m---------------------------------------------------------------------------\u001b[0m",
      "\u001b[1;31mZeroDivisionError\u001b[0m                         Traceback (most recent call last)",
      "Input \u001b[1;32mIn [62]\u001b[0m, in \u001b[0;36m<cell line: 3>\u001b[1;34m()\u001b[0m\n\u001b[0;32m      1\u001b[0m gamma\u001b[38;5;241m=\u001b[39mgammas_set[\u001b[38;5;241m4\u001b[39m]\n\u001b[0;32m      2\u001b[0m start_time \u001b[38;5;241m=\u001b[39m time\u001b[38;5;241m.\u001b[39mtime()\n\u001b[1;32m----> 3\u001b[0m conv_steps\u001b[38;5;241m=\u001b[39m\u001b[43mfind_convergence_time_2\u001b[49m\u001b[43m(\u001b[49m\u001b[43mx0\u001b[49m\u001b[43m,\u001b[49m\u001b[43m \u001b[49m\u001b[43mv0\u001b[49m\u001b[43m,\u001b[49m\u001b[43m \u001b[49m\u001b[43mgamma\u001b[49m\u001b[43m,\u001b[49m\u001b[43m \u001b[49m\u001b[43mu\u001b[49m\u001b[43m,\u001b[49m\u001b[43m \u001b[49m\u001b[43mEM_Step_a\u001b[49m\u001b[43m,\u001b[49m\u001b[43m \u001b[49m\u001b[43mdt\u001b[49m\u001b[43m,\u001b[49m\u001b[43mn\u001b[49m\u001b[43m,\u001b[49m\u001b[43mgrad_potential_b2\u001b[49m\u001b[43m,\u001b[49m\u001b[43mT\u001b[49m\u001b[43m,\u001b[49m\u001b[43mepsilon\u001b[49m\u001b[43m,\u001b[49m\u001b[43mxsq_true_value\u001b[49m\u001b[43m,\u001b[49m\u001b[38;5;241;43m20000\u001b[39;49m\u001b[43m)\u001b[49m\n\u001b[0;32m      4\u001b[0m \u001b[38;5;28mprint\u001b[39m(\u001b[38;5;124mf\u001b[39m\u001b[38;5;124m'\u001b[39m\u001b[38;5;124mgamma is \u001b[39m\u001b[38;5;132;01m{\u001b[39;00mgamma\u001b[38;5;132;01m}\u001b[39;00m\u001b[38;5;124m'\u001b[39m)\n\u001b[0;32m      5\u001b[0m \u001b[38;5;28mprint\u001b[39m(\u001b[38;5;124mf\u001b[39m\u001b[38;5;124m'\u001b[39m\u001b[38;5;124mtime needed for python to run \u001b[39m\u001b[38;5;132;01m{\u001b[39;00mtime\u001b[38;5;241m.\u001b[39mtime()\u001b[38;5;241m-\u001b[39mstart_time\u001b[38;5;132;01m}\u001b[39;00m\u001b[38;5;124m'\u001b[39m)\n",
      "\u001b[1;31mZeroDivisionError\u001b[0m: division by zero"
     ]
    }
   ],
   "source": [
    "gamma=gammas_set[4]\n",
    "start_time = time.time()\n",
    "conv_steps=find_convergence_time_2(x0, v0, gamma, u, EM_Step_a, dt,n,grad_potential_b2,T,epsilon,xsq_true_value,20000)\n",
    "print(f'gamma is {gamma}')\n",
    "print(f'time needed for python to run {time.time()-start_time}')\n",
    "print(f'steps to reach convergence {conv_steps}')"
   ]
  },
  {
   "cell_type": "code",
   "execution_count": 63,
   "id": "95b2f066",
   "metadata": {
    "collapsed": true
   },
   "outputs": [
    {
     "ename": "ZeroDivisionError",
     "evalue": "division by zero",
     "output_type": "error",
     "traceback": [
      "\u001b[1;31m---------------------------------------------------------------------------\u001b[0m",
      "\u001b[1;31mZeroDivisionError\u001b[0m                         Traceback (most recent call last)",
      "Input \u001b[1;32mIn [63]\u001b[0m, in \u001b[0;36m<cell line: 3>\u001b[1;34m()\u001b[0m\n\u001b[0;32m      1\u001b[0m gamma\u001b[38;5;241m=\u001b[39mgammas_set[\u001b[38;5;241m5\u001b[39m]\n\u001b[0;32m      2\u001b[0m start_time \u001b[38;5;241m=\u001b[39m time\u001b[38;5;241m.\u001b[39mtime()\n\u001b[1;32m----> 3\u001b[0m conv_steps\u001b[38;5;241m=\u001b[39m\u001b[43mfind_convergence_time_2\u001b[49m\u001b[43m(\u001b[49m\u001b[43mx0\u001b[49m\u001b[43m,\u001b[49m\u001b[43m \u001b[49m\u001b[43mv0\u001b[49m\u001b[43m,\u001b[49m\u001b[43m \u001b[49m\u001b[43mgamma\u001b[49m\u001b[43m,\u001b[49m\u001b[43m \u001b[49m\u001b[43mu\u001b[49m\u001b[43m,\u001b[49m\u001b[43m \u001b[49m\u001b[43mEM_Step_a\u001b[49m\u001b[43m,\u001b[49m\u001b[43m \u001b[49m\u001b[43mdt\u001b[49m\u001b[43m,\u001b[49m\u001b[43mn\u001b[49m\u001b[43m,\u001b[49m\u001b[43mgrad_potential_b2\u001b[49m\u001b[43m,\u001b[49m\u001b[43mT\u001b[49m\u001b[43m,\u001b[49m\u001b[43mepsilon\u001b[49m\u001b[43m,\u001b[49m\u001b[43mxsq_true_value\u001b[49m\u001b[43m,\u001b[49m\u001b[38;5;241;43m20000\u001b[39;49m\u001b[43m)\u001b[49m\n\u001b[0;32m      4\u001b[0m \u001b[38;5;28mprint\u001b[39m(\u001b[38;5;124mf\u001b[39m\u001b[38;5;124m'\u001b[39m\u001b[38;5;124mgamma is \u001b[39m\u001b[38;5;132;01m{\u001b[39;00mgamma\u001b[38;5;132;01m}\u001b[39;00m\u001b[38;5;124m'\u001b[39m)\n\u001b[0;32m      5\u001b[0m \u001b[38;5;28mprint\u001b[39m(\u001b[38;5;124mf\u001b[39m\u001b[38;5;124m'\u001b[39m\u001b[38;5;124mtime needed for python to run \u001b[39m\u001b[38;5;132;01m{\u001b[39;00mtime\u001b[38;5;241m.\u001b[39mtime()\u001b[38;5;241m-\u001b[39mstart_time\u001b[38;5;132;01m}\u001b[39;00m\u001b[38;5;124m'\u001b[39m)\n",
      "\u001b[1;31mZeroDivisionError\u001b[0m: division by zero"
     ]
    }
   ],
   "source": [
    "gamma=gammas_set[5]\n",
    "start_time = time.time()\n",
    "conv_steps=find_convergence_time_2(x0, v0, gamma, u, EM_Step_a, dt,n,grad_potential_b2,T,epsilon,xsq_true_value,20000)\n",
    "print(f'gamma is {gamma}')\n",
    "print(f'time needed for python to run {time.time()-start_time}')\n",
    "print(f'steps to reach convergence {conv_steps}')"
   ]
  },
  {
   "cell_type": "code",
   "execution_count": 65,
   "id": "13b1335d",
   "metadata": {
    "collapsed": true
   },
   "outputs": [
    {
     "ename": "ZeroDivisionError",
     "evalue": "division by zero",
     "output_type": "error",
     "traceback": [
      "\u001b[1;31m---------------------------------------------------------------------------\u001b[0m",
      "\u001b[1;31mZeroDivisionError\u001b[0m                         Traceback (most recent call last)",
      "Input \u001b[1;32mIn [65]\u001b[0m, in \u001b[0;36m<cell line: 3>\u001b[1;34m()\u001b[0m\n\u001b[0;32m      1\u001b[0m gamma\u001b[38;5;241m=\u001b[39mgammas_set[\u001b[38;5;241m6\u001b[39m]\n\u001b[0;32m      2\u001b[0m start_time \u001b[38;5;241m=\u001b[39m time\u001b[38;5;241m.\u001b[39mtime()\n\u001b[1;32m----> 3\u001b[0m conv_steps\u001b[38;5;241m=\u001b[39m\u001b[43mfind_convergence_time_2\u001b[49m\u001b[43m(\u001b[49m\u001b[43mx0\u001b[49m\u001b[43m,\u001b[49m\u001b[43m \u001b[49m\u001b[43mv0\u001b[49m\u001b[43m,\u001b[49m\u001b[43m \u001b[49m\u001b[43mgamma\u001b[49m\u001b[43m,\u001b[49m\u001b[43m \u001b[49m\u001b[43mu\u001b[49m\u001b[43m,\u001b[49m\u001b[43m \u001b[49m\u001b[43mEM_Step_a\u001b[49m\u001b[43m,\u001b[49m\u001b[43m \u001b[49m\u001b[43mdt\u001b[49m\u001b[43m,\u001b[49m\u001b[43mn\u001b[49m\u001b[43m,\u001b[49m\u001b[43mgrad_potential_b2\u001b[49m\u001b[43m,\u001b[49m\u001b[43mT\u001b[49m\u001b[43m,\u001b[49m\u001b[43mepsilon\u001b[49m\u001b[43m,\u001b[49m\u001b[43mxsq_true_value\u001b[49m\u001b[43m,\u001b[49m\u001b[38;5;241;43m20000\u001b[39;49m\u001b[43m)\u001b[49m\n\u001b[0;32m      4\u001b[0m \u001b[38;5;28mprint\u001b[39m(\u001b[38;5;124mf\u001b[39m\u001b[38;5;124m'\u001b[39m\u001b[38;5;124mgamma is \u001b[39m\u001b[38;5;132;01m{\u001b[39;00mgamma\u001b[38;5;132;01m}\u001b[39;00m\u001b[38;5;124m'\u001b[39m)\n\u001b[0;32m      5\u001b[0m \u001b[38;5;28mprint\u001b[39m(\u001b[38;5;124mf\u001b[39m\u001b[38;5;124m'\u001b[39m\u001b[38;5;124mtime needed for python to run \u001b[39m\u001b[38;5;132;01m{\u001b[39;00mtime\u001b[38;5;241m.\u001b[39mtime()\u001b[38;5;241m-\u001b[39mstart_time\u001b[38;5;132;01m}\u001b[39;00m\u001b[38;5;124m'\u001b[39m)\n",
      "\u001b[1;31mZeroDivisionError\u001b[0m: division by zero"
     ]
    }
   ],
   "source": [
    "gamma=gammas_set[6]\n",
    "start_time = time.time()\n",
    "conv_steps=find_convergence_time_2(x0, v0, gamma, u, EM_Step_a, dt,n,grad_potential_b2,T,epsilon,xsq_true_value,20000)\n",
    "print(f'gamma is {gamma}')\n",
    "print(f'time needed for python to run {time.time()-start_time}')\n",
    "print(f'steps to reach convergence {conv_steps}')"
   ]
  },
  {
   "cell_type": "code",
   "execution_count": 66,
   "id": "bd927d66",
   "metadata": {
    "collapsed": true
   },
   "outputs": [
    {
     "ename": "ZeroDivisionError",
     "evalue": "division by zero",
     "output_type": "error",
     "traceback": [
      "\u001b[1;31m---------------------------------------------------------------------------\u001b[0m",
      "\u001b[1;31mZeroDivisionError\u001b[0m                         Traceback (most recent call last)",
      "Input \u001b[1;32mIn [66]\u001b[0m, in \u001b[0;36m<cell line: 3>\u001b[1;34m()\u001b[0m\n\u001b[0;32m      1\u001b[0m gamma\u001b[38;5;241m=\u001b[39mgammas_set[\u001b[38;5;241m7\u001b[39m]\n\u001b[0;32m      2\u001b[0m start_time \u001b[38;5;241m=\u001b[39m time\u001b[38;5;241m.\u001b[39mtime()\n\u001b[1;32m----> 3\u001b[0m conv_steps\u001b[38;5;241m=\u001b[39m\u001b[43mfind_convergence_time_2\u001b[49m\u001b[43m(\u001b[49m\u001b[43mx0\u001b[49m\u001b[43m,\u001b[49m\u001b[43m \u001b[49m\u001b[43mv0\u001b[49m\u001b[43m,\u001b[49m\u001b[43m \u001b[49m\u001b[43mgamma\u001b[49m\u001b[43m,\u001b[49m\u001b[43m \u001b[49m\u001b[43mu\u001b[49m\u001b[43m,\u001b[49m\u001b[43m \u001b[49m\u001b[43mEM_Step_a\u001b[49m\u001b[43m,\u001b[49m\u001b[43m \u001b[49m\u001b[43mdt\u001b[49m\u001b[43m,\u001b[49m\u001b[43mn\u001b[49m\u001b[43m,\u001b[49m\u001b[43mgrad_potential_b2\u001b[49m\u001b[43m,\u001b[49m\u001b[43mT\u001b[49m\u001b[43m,\u001b[49m\u001b[43mepsilon\u001b[49m\u001b[43m,\u001b[49m\u001b[43mxsq_true_value\u001b[49m\u001b[43m,\u001b[49m\u001b[38;5;241;43m20000\u001b[39;49m\u001b[43m)\u001b[49m\n\u001b[0;32m      4\u001b[0m \u001b[38;5;28mprint\u001b[39m(\u001b[38;5;124mf\u001b[39m\u001b[38;5;124m'\u001b[39m\u001b[38;5;124mgamma is \u001b[39m\u001b[38;5;132;01m{\u001b[39;00mgamma\u001b[38;5;132;01m}\u001b[39;00m\u001b[38;5;124m'\u001b[39m)\n\u001b[0;32m      5\u001b[0m \u001b[38;5;28mprint\u001b[39m(\u001b[38;5;124mf\u001b[39m\u001b[38;5;124m'\u001b[39m\u001b[38;5;124mtime needed for python to run \u001b[39m\u001b[38;5;132;01m{\u001b[39;00mtime\u001b[38;5;241m.\u001b[39mtime()\u001b[38;5;241m-\u001b[39mstart_time\u001b[38;5;132;01m}\u001b[39;00m\u001b[38;5;124m'\u001b[39m)\n",
      "\u001b[1;31mZeroDivisionError\u001b[0m: division by zero"
     ]
    }
   ],
   "source": [
    "gamma=gammas_set[7]\n",
    "start_time = time.time()\n",
    "conv_steps=find_convergence_time_2(x0, v0, gamma, u, EM_Step_a, dt,n,grad_potential_b2,T,epsilon,xsq_true_value,20000)\n",
    "print(f'gamma is {gamma}')\n",
    "print(f'time needed for python to run {time.time()-start_time}')\n",
    "print(f'steps to reach convergence {conv_steps}')"
   ]
  },
  {
   "cell_type": "code",
   "execution_count": 67,
   "id": "3bb56a08",
   "metadata": {
    "collapsed": true
   },
   "outputs": [
    {
     "ename": "ZeroDivisionError",
     "evalue": "division by zero",
     "output_type": "error",
     "traceback": [
      "\u001b[1;31m---------------------------------------------------------------------------\u001b[0m",
      "\u001b[1;31mZeroDivisionError\u001b[0m                         Traceback (most recent call last)",
      "Input \u001b[1;32mIn [67]\u001b[0m, in \u001b[0;36m<cell line: 3>\u001b[1;34m()\u001b[0m\n\u001b[0;32m      1\u001b[0m gamma\u001b[38;5;241m=\u001b[39mgammas_set[\u001b[38;5;241m8\u001b[39m]\n\u001b[0;32m      2\u001b[0m start_time \u001b[38;5;241m=\u001b[39m time\u001b[38;5;241m.\u001b[39mtime()\n\u001b[1;32m----> 3\u001b[0m conv_steps\u001b[38;5;241m=\u001b[39m\u001b[43mfind_convergence_time_2\u001b[49m\u001b[43m(\u001b[49m\u001b[43mx0\u001b[49m\u001b[43m,\u001b[49m\u001b[43m \u001b[49m\u001b[43mv0\u001b[49m\u001b[43m,\u001b[49m\u001b[43m \u001b[49m\u001b[43mgamma\u001b[49m\u001b[43m,\u001b[49m\u001b[43m \u001b[49m\u001b[43mu\u001b[49m\u001b[43m,\u001b[49m\u001b[43m \u001b[49m\u001b[43mEM_Step_a\u001b[49m\u001b[43m,\u001b[49m\u001b[43m \u001b[49m\u001b[43mdt\u001b[49m\u001b[43m,\u001b[49m\u001b[43mn\u001b[49m\u001b[43m,\u001b[49m\u001b[43mgrad_potential_b2\u001b[49m\u001b[43m,\u001b[49m\u001b[43mT\u001b[49m\u001b[43m,\u001b[49m\u001b[43mepsilon\u001b[49m\u001b[43m,\u001b[49m\u001b[43mxsq_true_value\u001b[49m\u001b[43m,\u001b[49m\u001b[38;5;241;43m20000\u001b[39;49m\u001b[43m)\u001b[49m\n\u001b[0;32m      4\u001b[0m \u001b[38;5;28mprint\u001b[39m(\u001b[38;5;124mf\u001b[39m\u001b[38;5;124m'\u001b[39m\u001b[38;5;124mgamma is \u001b[39m\u001b[38;5;132;01m{\u001b[39;00mgamma\u001b[38;5;132;01m}\u001b[39;00m\u001b[38;5;124m'\u001b[39m)\n\u001b[0;32m      5\u001b[0m \u001b[38;5;28mprint\u001b[39m(\u001b[38;5;124mf\u001b[39m\u001b[38;5;124m'\u001b[39m\u001b[38;5;124mtime needed for python to run \u001b[39m\u001b[38;5;132;01m{\u001b[39;00mtime\u001b[38;5;241m.\u001b[39mtime()\u001b[38;5;241m-\u001b[39mstart_time\u001b[38;5;132;01m}\u001b[39;00m\u001b[38;5;124m'\u001b[39m)\n",
      "\u001b[1;31mZeroDivisionError\u001b[0m: division by zero"
     ]
    }
   ],
   "source": [
    "gamma=gammas_set[8]\n",
    "start_time = time.time()\n",
    "conv_steps=find_convergence_time_2(x0, v0, gamma, u, EM_Step_a, dt,n,grad_potential_b2,T,epsilon,xsq_true_value,20000)\n",
    "print(f'gamma is {gamma}')\n",
    "print(f'time needed for python to run {time.time()-start_time}')\n",
    "print(f'steps to reach convergence {conv_steps}')"
   ]
  },
  {
   "cell_type": "code",
   "execution_count": 68,
   "id": "942b064d",
   "metadata": {
    "collapsed": true
   },
   "outputs": [
    {
     "ename": "ZeroDivisionError",
     "evalue": "division by zero",
     "output_type": "error",
     "traceback": [
      "\u001b[1;31m---------------------------------------------------------------------------\u001b[0m",
      "\u001b[1;31mZeroDivisionError\u001b[0m                         Traceback (most recent call last)",
      "Input \u001b[1;32mIn [68]\u001b[0m, in \u001b[0;36m<cell line: 3>\u001b[1;34m()\u001b[0m\n\u001b[0;32m      1\u001b[0m gamma\u001b[38;5;241m=\u001b[39mgammas_set[\u001b[38;5;241m9\u001b[39m]\n\u001b[0;32m      2\u001b[0m start_time \u001b[38;5;241m=\u001b[39m time\u001b[38;5;241m.\u001b[39mtime()\n\u001b[1;32m----> 3\u001b[0m conv_steps\u001b[38;5;241m=\u001b[39m\u001b[43mfind_convergence_time_2\u001b[49m\u001b[43m(\u001b[49m\u001b[43mx0\u001b[49m\u001b[43m,\u001b[49m\u001b[43m \u001b[49m\u001b[43mv0\u001b[49m\u001b[43m,\u001b[49m\u001b[43m \u001b[49m\u001b[43mgamma\u001b[49m\u001b[43m,\u001b[49m\u001b[43m \u001b[49m\u001b[43mu\u001b[49m\u001b[43m,\u001b[49m\u001b[43m \u001b[49m\u001b[43mEM_Step_a\u001b[49m\u001b[43m,\u001b[49m\u001b[43m \u001b[49m\u001b[43mdt\u001b[49m\u001b[43m,\u001b[49m\u001b[43mn\u001b[49m\u001b[43m,\u001b[49m\u001b[43mgrad_potential_b2\u001b[49m\u001b[43m,\u001b[49m\u001b[43mT\u001b[49m\u001b[43m,\u001b[49m\u001b[43mepsilon\u001b[49m\u001b[43m,\u001b[49m\u001b[43mxsq_true_value\u001b[49m\u001b[43m,\u001b[49m\u001b[38;5;241;43m20000\u001b[39;49m\u001b[43m)\u001b[49m\n\u001b[0;32m      4\u001b[0m \u001b[38;5;28mprint\u001b[39m(\u001b[38;5;124mf\u001b[39m\u001b[38;5;124m'\u001b[39m\u001b[38;5;124mgamma is \u001b[39m\u001b[38;5;132;01m{\u001b[39;00mgamma\u001b[38;5;132;01m}\u001b[39;00m\u001b[38;5;124m'\u001b[39m)\n\u001b[0;32m      5\u001b[0m \u001b[38;5;28mprint\u001b[39m(\u001b[38;5;124mf\u001b[39m\u001b[38;5;124m'\u001b[39m\u001b[38;5;124mtime needed for python to run \u001b[39m\u001b[38;5;132;01m{\u001b[39;00mtime\u001b[38;5;241m.\u001b[39mtime()\u001b[38;5;241m-\u001b[39mstart_time\u001b[38;5;132;01m}\u001b[39;00m\u001b[38;5;124m'\u001b[39m)\n",
      "\u001b[1;31mZeroDivisionError\u001b[0m: division by zero"
     ]
    }
   ],
   "source": [
    "gamma=gammas_set[9]\n",
    "start_time = time.time()\n",
    "conv_steps=find_convergence_time_2(x0, v0, gamma, u, EM_Step_a, dt,n,grad_potential_b2,T,epsilon,xsq_true_value,20000)\n",
    "print(f'gamma is {gamma}')\n",
    "print(f'time needed for python to run {time.time()-start_time}')\n",
    "print(f'steps to reach convergence {conv_steps}')"
   ]
  },
  {
   "cell_type": "code",
   "execution_count": 69,
   "id": "817a1406",
   "metadata": {
    "collapsed": true
   },
   "outputs": [
    {
     "ename": "ZeroDivisionError",
     "evalue": "division by zero",
     "output_type": "error",
     "traceback": [
      "\u001b[1;31m---------------------------------------------------------------------------\u001b[0m",
      "\u001b[1;31mZeroDivisionError\u001b[0m                         Traceback (most recent call last)",
      "Input \u001b[1;32mIn [69]\u001b[0m, in \u001b[0;36m<cell line: 3>\u001b[1;34m()\u001b[0m\n\u001b[0;32m      1\u001b[0m gamma\u001b[38;5;241m=\u001b[39mgammas_set[\u001b[38;5;241m10\u001b[39m]\n\u001b[0;32m      2\u001b[0m start_time \u001b[38;5;241m=\u001b[39m time\u001b[38;5;241m.\u001b[39mtime()\n\u001b[1;32m----> 3\u001b[0m conv_steps\u001b[38;5;241m=\u001b[39m\u001b[43mfind_convergence_time_2\u001b[49m\u001b[43m(\u001b[49m\u001b[43mx0\u001b[49m\u001b[43m,\u001b[49m\u001b[43m \u001b[49m\u001b[43mv0\u001b[49m\u001b[43m,\u001b[49m\u001b[43m \u001b[49m\u001b[43mgamma\u001b[49m\u001b[43m,\u001b[49m\u001b[43m \u001b[49m\u001b[43mu\u001b[49m\u001b[43m,\u001b[49m\u001b[43m \u001b[49m\u001b[43mEM_Step_a\u001b[49m\u001b[43m,\u001b[49m\u001b[43m \u001b[49m\u001b[43mdt\u001b[49m\u001b[43m,\u001b[49m\u001b[43mn\u001b[49m\u001b[43m,\u001b[49m\u001b[43mgrad_potential_b2\u001b[49m\u001b[43m,\u001b[49m\u001b[43mT\u001b[49m\u001b[43m,\u001b[49m\u001b[43mepsilon\u001b[49m\u001b[43m,\u001b[49m\u001b[43mxsq_true_value\u001b[49m\u001b[43m,\u001b[49m\u001b[38;5;241;43m20000\u001b[39;49m\u001b[43m)\u001b[49m\n\u001b[0;32m      4\u001b[0m \u001b[38;5;28mprint\u001b[39m(\u001b[38;5;124mf\u001b[39m\u001b[38;5;124m'\u001b[39m\u001b[38;5;124mgamma is \u001b[39m\u001b[38;5;132;01m{\u001b[39;00mgamma\u001b[38;5;132;01m}\u001b[39;00m\u001b[38;5;124m'\u001b[39m)\n\u001b[0;32m      5\u001b[0m \u001b[38;5;28mprint\u001b[39m(\u001b[38;5;124mf\u001b[39m\u001b[38;5;124m'\u001b[39m\u001b[38;5;124mtime needed for python to run \u001b[39m\u001b[38;5;132;01m{\u001b[39;00mtime\u001b[38;5;241m.\u001b[39mtime()\u001b[38;5;241m-\u001b[39mstart_time\u001b[38;5;132;01m}\u001b[39;00m\u001b[38;5;124m'\u001b[39m)\n",
      "\u001b[1;31mZeroDivisionError\u001b[0m: division by zero"
     ]
    }
   ],
   "source": [
    "gamma=gammas_set[10]\n",
    "start_time = time.time()\n",
    "conv_steps=find_convergence_time_2(x0, v0, gamma, u, EM_Step_a, dt,n,grad_potential_b2,T,epsilon,xsq_true_value,20000)\n",
    "print(f'gamma is {gamma}')\n",
    "print(f'time needed for python to run {time.time()-start_time}')\n",
    "print(f'steps to reach convergence {conv_steps}')"
   ]
  },
  {
   "cell_type": "code",
   "execution_count": 70,
   "id": "e5019c76",
   "metadata": {
    "collapsed": true
   },
   "outputs": [
    {
     "ename": "ZeroDivisionError",
     "evalue": "division by zero",
     "output_type": "error",
     "traceback": [
      "\u001b[1;31m---------------------------------------------------------------------------\u001b[0m",
      "\u001b[1;31mZeroDivisionError\u001b[0m                         Traceback (most recent call last)",
      "Input \u001b[1;32mIn [70]\u001b[0m, in \u001b[0;36m<cell line: 3>\u001b[1;34m()\u001b[0m\n\u001b[0;32m      1\u001b[0m gamma\u001b[38;5;241m=\u001b[39mgammas_set[\u001b[38;5;241m11\u001b[39m]\n\u001b[0;32m      2\u001b[0m start_time \u001b[38;5;241m=\u001b[39m time\u001b[38;5;241m.\u001b[39mtime()\n\u001b[1;32m----> 3\u001b[0m conv_steps\u001b[38;5;241m=\u001b[39m\u001b[43mfind_convergence_time_2\u001b[49m\u001b[43m(\u001b[49m\u001b[43mx0\u001b[49m\u001b[43m,\u001b[49m\u001b[43m \u001b[49m\u001b[43mv0\u001b[49m\u001b[43m,\u001b[49m\u001b[43m \u001b[49m\u001b[43mgamma\u001b[49m\u001b[43m,\u001b[49m\u001b[43m \u001b[49m\u001b[43mu\u001b[49m\u001b[43m,\u001b[49m\u001b[43m \u001b[49m\u001b[43mEM_Step_a\u001b[49m\u001b[43m,\u001b[49m\u001b[43m \u001b[49m\u001b[43mdt\u001b[49m\u001b[43m,\u001b[49m\u001b[43mn\u001b[49m\u001b[43m,\u001b[49m\u001b[43mgrad_potential_b2\u001b[49m\u001b[43m,\u001b[49m\u001b[43mT\u001b[49m\u001b[43m,\u001b[49m\u001b[43mepsilon\u001b[49m\u001b[43m,\u001b[49m\u001b[43mxsq_true_value\u001b[49m\u001b[43m,\u001b[49m\u001b[38;5;241;43m20000\u001b[39;49m\u001b[43m)\u001b[49m\n\u001b[0;32m      4\u001b[0m \u001b[38;5;28mprint\u001b[39m(\u001b[38;5;124mf\u001b[39m\u001b[38;5;124m'\u001b[39m\u001b[38;5;124mgamma is \u001b[39m\u001b[38;5;132;01m{\u001b[39;00mgamma\u001b[38;5;132;01m}\u001b[39;00m\u001b[38;5;124m'\u001b[39m)\n\u001b[0;32m      5\u001b[0m \u001b[38;5;28mprint\u001b[39m(\u001b[38;5;124mf\u001b[39m\u001b[38;5;124m'\u001b[39m\u001b[38;5;124mtime needed for python to run \u001b[39m\u001b[38;5;132;01m{\u001b[39;00mtime\u001b[38;5;241m.\u001b[39mtime()\u001b[38;5;241m-\u001b[39mstart_time\u001b[38;5;132;01m}\u001b[39;00m\u001b[38;5;124m'\u001b[39m)\n",
      "\u001b[1;31mZeroDivisionError\u001b[0m: division by zero"
     ]
    }
   ],
   "source": [
    "gamma=gammas_set[11]\n",
    "start_time = time.time()\n",
    "conv_steps=find_convergence_time_2(x0, v0, gamma, u, EM_Step_a, dt,n,grad_potential_b2,T,epsilon,xsq_true_value,20000)\n",
    "print(f'gamma is {gamma}')\n",
    "print(f'time needed for python to run {time.time()-start_time}')\n",
    "print(f'steps to reach convergence {conv_steps}')"
   ]
  },
  {
   "cell_type": "code",
   "execution_count": 72,
   "id": "e3dee38e",
   "metadata": {},
   "outputs": [
    {
     "name": "stdout",
     "output_type": "stream",
     "text": [
      "gamma is 0.014150621355555537\n",
      "time needed for python to run 40.18273067474365\n",
      "steps to reach convergence 1000001\n"
     ]
    }
   ],
   "source": [
    "gamma=gammas_set[12]\n",
    "start_time = time.time()\n",
    "conv_steps=find_convergence_time_2(x0, v0, gamma, u, EM_Step_a, dt,n,grad_potential_b2,T,epsilon,xsq_true_value,20000)\n",
    "print(f'gamma is {gamma}')\n",
    "print(f'time needed for python to run {time.time()-start_time}')\n",
    "print(f'steps to reach convergence {conv_steps}')"
   ]
  },
  {
   "cell_type": "code",
   "execution_count": 71,
   "id": "afd84744",
   "metadata": {},
   "outputs": [
    {
     "name": "stdout",
     "output_type": "stream",
     "text": [
      "gamma is 0.017647104985532645\n",
      "time needed for python to run 42.03975248336792\n",
      "steps to reach convergence 1000001\n"
     ]
    }
   ],
   "source": [
    "gamma=gammas_set[13]\n",
    "start_time = time.time()\n",
    "conv_steps=find_convergence_time_2(x0, v0, gamma, u, EM_Step_a, dt,n,grad_potential_b2,T,epsilon,xsq_true_value,20000)\n",
    "print(f'gamma is {gamma}')\n",
    "print(f'time needed for python to run {time.time()-start_time}')\n",
    "print(f'steps to reach convergence {conv_steps}')"
   ]
  },
  {
   "cell_type": "code",
   "execution_count": 73,
   "id": "29844f06",
   "metadata": {},
   "outputs": [
    {
     "name": "stdout",
     "output_type": "stream",
     "text": [
      "gamma is 0.022007536386248326\n",
      "time needed for python to run 40.99228477478027\n",
      "steps to reach convergence 1000001\n"
     ]
    }
   ],
   "source": [
    "gamma=gammas_set[14]\n",
    "start_time = time.time()\n",
    "conv_steps=find_convergence_time_2(x0, v0, gamma, u, EM_Step_a, dt,n,grad_potential_b2,T,epsilon,xsq_true_value,20000)\n",
    "print(f'gamma is {gamma}')\n",
    "print(f'time needed for python to run {time.time()-start_time}')\n",
    "print(f'steps to reach convergence {conv_steps}')"
   ]
  },
  {
   "cell_type": "code",
   "execution_count": 74,
   "id": "c83fc3e5",
   "metadata": {},
   "outputs": [
    {
     "name": "stdout",
     "output_type": "stream",
     "text": [
      "gamma is 0.027445388815281958\n",
      "time needed for python to run 40.53817367553711\n",
      "steps to reach convergence 1000001\n"
     ]
    }
   ],
   "source": [
    "gamma=gammas_set[15]\n",
    "start_time = time.time()\n",
    "conv_steps=find_convergence_time_2(x0, v0, gamma, u, EM_Step_a, dt,n,grad_potential_b2,T,epsilon,xsq_true_value,20000)\n",
    "print(f'gamma is {gamma}')\n",
    "print(f'time needed for python to run {time.time()-start_time}')\n",
    "print(f'steps to reach convergence {conv_steps}')"
   ]
  },
  {
   "cell_type": "code",
   "execution_count": 77,
   "id": "d73b4703",
   "metadata": {},
   "outputs": [
    {
     "name": "stdout",
     "output_type": "stream",
     "text": [
      "gamma is 50.003453497697855\n",
      "time needed for python to run 42.04915761947632\n",
      "steps to reach convergence 1000001\n"
     ]
    }
   ],
   "source": [
    "gamma=gammas_set[-1]\n",
    "start_time = time.time()\n",
    "conv_steps=find_convergence_time_2(x0, v0, gamma, u, EM_Step_a, dt,n,grad_potential_b2,T,epsilon,xsq_true_value,20000)\n",
    "print(f'gamma is {gamma}')\n",
    "print(f'time needed for python to run {time.time()-start_time}')\n",
    "print(f'steps to reach convergence {conv_steps}')"
   ]
  },
  {
   "cell_type": "code",
   "execution_count": 78,
   "id": "d7f9a6e1",
   "metadata": {},
   "outputs": [
    {
     "name": "stdout",
     "output_type": "stream",
     "text": [
      "gamma is 16.577162857056795\n",
      "time needed for python to run 41.096999406814575\n",
      "steps to reach convergence 1000001\n"
     ]
    }
   ],
   "source": [
    "gamma=gammas_set[-6]\n",
    "start_time = time.time()\n",
    "conv_steps=find_convergence_time_2(x0, v0, gamma, u, EM_Step_a, dt,n,grad_potential_b2,T,epsilon,xsq_true_value,20000)\n",
    "print(f'gamma is {gamma}')\n",
    "print(f'time needed for python to run {time.time()-start_time}')\n",
    "print(f'steps to reach convergence {conv_steps}')"
   ]
  },
  {
   "cell_type": "code",
   "execution_count": 79,
   "id": "3d71ee08",
   "metadata": {},
   "outputs": [
    {
     "name": "stdout",
     "output_type": "stream",
     "text": [
      "gamma is 10.658946581870383\n",
      "time needed for python to run 44.69834518432617\n",
      "steps to reach convergence 1000001\n"
     ]
    }
   ],
   "source": [
    "gamma=gammas_set[-8]\n",
    "start_time = time.time()\n",
    "conv_steps=find_convergence_time_2(x0, v0, gamma, u, EM_Step_a, dt,n,grad_potential_b2,T,epsilon,xsq_true_value,20000)\n",
    "print(f'gamma is {gamma}')\n",
    "print(f'time needed for python to run {time.time()-start_time}')\n",
    "print(f'steps to reach convergence {conv_steps}')"
   ]
  },
  {
   "cell_type": "code",
   "execution_count": 80,
   "id": "57245a48",
   "metadata": {},
   "outputs": [
    {
     "name": "stdout",
     "output_type": "stream",
     "text": [
      "gamma is 6.853593899923722\n",
      "time needed for python to run 40.82207894325256\n",
      "steps to reach convergence 1000001\n"
     ]
    }
   ],
   "source": [
    "gamma=gammas_set[-10]\n",
    "start_time = time.time()\n",
    "conv_steps=find_convergence_time_2(x0, v0, gamma, u, EM_Step_a, dt,n,grad_potential_b2,T,epsilon,xsq_true_value,20000)\n",
    "print(f'gamma is {gamma}')\n",
    "print(f'time needed for python to run {time.time()-start_time}')\n",
    "print(f'steps to reach convergence {conv_steps}')"
   ]
  },
  {
   "cell_type": "code",
   "execution_count": 81,
   "id": "689b3ae9",
   "metadata": {},
   "outputs": [
    {
     "name": "stdout",
     "output_type": "stream",
     "text": [
      "gamma is 4.406790951083763\n",
      "time needed for python to run 40.307066440582275\n",
      "steps to reach convergence 1000001\n"
     ]
    }
   ],
   "source": [
    "gamma=gammas_set[-12]\n",
    "start_time = time.time()\n",
    "conv_steps=find_convergence_time_2(x0, v0, gamma, u, EM_Step_a, dt,n,grad_potential_b2,T,epsilon,xsq_true_value,20000)\n",
    "print(f'gamma is {gamma}')\n",
    "print(f'time needed for python to run {time.time()-start_time}')\n",
    "print(f'steps to reach convergence {conv_steps}')"
   ]
  },
  {
   "cell_type": "code",
   "execution_count": 76,
   "id": "4fbb90d2",
   "metadata": {},
   "outputs": [],
   "source": [
    "number_of_steps_b2[12]=1000001\n",
    "number_of_steps_b2[13]=1000001\n",
    "number_of_steps_b2[14]=1000001\n",
    "number_of_steps_b2[15]=1000001"
   ]
  },
  {
   "cell_type": "code",
   "execution_count": 82,
   "id": "96bc8c90",
   "metadata": {},
   "outputs": [
    {
     "name": "stdout",
     "output_type": "stream",
     "text": [
      "gamma is 0.03422688273698281\n",
      "time needed for python to run 381.84716272354126\n",
      "steps to reach convergence 1000001.0\n",
      "gamma is 0.042684019154389845\n",
      "time needed for python to run 352.2239534854889\n",
      "steps to reach convergence 1000001.0\n",
      "gamma is 0.05323083335321371\n",
      "time needed for python to run 350.99919509887695\n",
      "steps to reach convergence 1000001.0\n",
      "gamma is 0.06638366479099932\n",
      "time needed for python to run 351.79773783683777\n",
      "steps to reach convergence 1000001.0\n",
      "gamma is 0.08278643548265453\n",
      "time needed for python to run 350.9018511772156\n",
      "steps to reach convergence 1000001.0\n",
      "gamma is 0.10324217443404794\n",
      "time needed for python to run 351.6820001602173\n",
      "steps to reach convergence 1000001.0\n",
      "gamma is 0.12875233146260612\n",
      "time needed for python to run 351.12478399276733\n",
      "steps to reach convergence 1000001.0\n",
      "gamma is 0.1605658050881757\n",
      "time needed for python to run 351.7893497943878\n",
      "steps to reach convergence 1000001.0\n",
      "gamma is 0.2002400847483044\n",
      "time needed for python to run 351.3603777885437\n",
      "steps to reach convergence 1000001.0\n",
      "gamma is 0.24971750067200893\n",
      "time needed for python to run 351.7948377132416\n",
      "steps to reach convergence 1000001.0\n",
      "gamma is 0.3114203143704111\n",
      "time needed for python to run 351.970755815506\n",
      "steps to reach convergence 1000001.0\n",
      "gamma is 0.3883693050810541\n",
      "time needed for python to run 351.65064811706543\n",
      "steps to reach convergence 1000001.0\n",
      "gamma is 0.48433165779204407\n",
      "time needed for python to run 340.1565160751343\n",
      "steps to reach convergence 967356.8\n",
      "gamma is 0.6040053929870508\n",
      "time needed for python to run 336.3124649524689\n",
      "steps to reach convergence 952689.2\n",
      "gamma is 0.753249367222004\n",
      "time needed for python to run 335.7038221359253\n",
      "steps to reach convergence 952947.5\n",
      "gamma is 0.9393701046515556\n",
      "time needed for python to run 288.3172490596771\n",
      "steps to reach convergence 816301.8\n",
      "gamma is 1.171479501891172\n",
      "time needed for python to run 317.38876080513\n",
      "steps to reach convergence 902163.9\n",
      "gamma is 1.4609409183404287\n",
      "time needed for python to run 345.94370102882385\n",
      "steps to reach convergence 983770.7\n",
      "gamma is 1.8219254911723193\n",
      "time needed for python to run 351.1748135089874\n",
      "steps to reach convergence 998603.3\n",
      "gamma is 2.272105910452707\n",
      "time needed for python to run 347.9165897369385\n",
      "steps to reach convergence 988830.3\n",
      "gamma is 2.83352161947761\n",
      "time needed for python to run 351.6535897254944\n",
      "steps to reach convergence 1000001.0\n",
      "gamma is 3.5336577978652834\n",
      "time needed for python to run 351.8733801841736\n",
      "steps to reach convergence 1000001.0\n",
      "[      0.        0.        0.        0.        0.        0.        0.\n",
      "       0.        0.        0.        0.        0.  1000001.  1000001.\n",
      " 1000001.  1000001.  1000001.  1000001.  1000001.  1000001.  1000001.\n",
      " 1000001.  1000001.  1000001.  1000001.  1000001.  1000001.  1000001.\n",
      "  967356.8  952689.2  952947.5  816301.8  902163.9  983770.7  998603.3\n",
      "  988830.3 1000001.  1000001.        0.        0.        0.        0.\n",
      "       0.        0.        0.        0.        0.        0.        0.\n",
      "       0. ]\n"
     ]
    }
   ],
   "source": [
    "xsq_true_value=6.012076943431412\n",
    "u = 0.01\n",
    "T=1000000\n",
    "epsilon=0.1\n",
    "dt=0.01 # step size\n",
    "n=100 # number of paths\n",
    "x0 = 1*random_gaussian(n)\n",
    "v0 = 1*random_gaussian(n)\n",
    "\n",
    "c=16\n",
    "\n",
    "for gamma in gammas_set[16:-12]:\n",
    "    print(f'gamma is {gamma}')\n",
    "    steps_for_gamma_b2=np.zeros(10)\n",
    "    \n",
    "    start_time = time.time()\n",
    "    for i in range(0,10):\n",
    "        conv_steps=find_convergence_time_2(x0, v0, gamma, u, EM_Step_a, dt,n,grad_potential_b2,T,epsilon,xsq_true_value,20000)\n",
    "        steps_for_gamma_b2[i]=conv_steps\n",
    "        \n",
    "    if np.all(steps_for_gamma_b2):\n",
    "        number_of_steps_b2[c]=np.mean(steps_for_gamma_b2)\n",
    "    else:\n",
    "        number_of_steps_b2[c]=0\n",
    "        \n",
    "    print(f'time needed for python to run {time.time()-start_time}')\n",
    "    print(f'steps to reach convergence {number_of_steps_b2[c]}')\n",
    "    c=c+1\n",
    "    \n",
    "\n",
    "print(number_of_steps_b2)\n"
   ]
  },
  {
   "cell_type": "code",
   "execution_count": 83,
   "id": "1e114b1a",
   "metadata": {},
   "outputs": [
    {
     "data": {
      "text/plain": [
       "array([      0. ,       0. ,       0. ,       0. ,       0. ,       0. ,\n",
       "             0. ,       0. ,       0. ,       0. ,       0. ,       0. ,\n",
       "       1000001. , 1000001. , 1000001. , 1000001. , 1000001. , 1000001. ,\n",
       "       1000001. , 1000001. , 1000001. , 1000001. , 1000001. , 1000001. ,\n",
       "       1000001. , 1000001. , 1000001. , 1000001. ,  967356.8,  952689.2,\n",
       "        952947.5,  816301.8,  902163.9,  983770.7,  998603.3,  988830.3,\n",
       "       1000001. , 1000001. ,       0. ,       0. ,       0. ,       0. ,\n",
       "             0. ,       0. ,       0. ,       0. ,       0. ,       0. ,\n",
       "             0. ,       0. ])"
      ]
     },
     "execution_count": 83,
     "metadata": {},
     "output_type": "execute_result"
    }
   ],
   "source": [
    "number_of_steps_b2"
   ]
  },
  {
   "cell_type": "code",
   "execution_count": 89,
   "id": "0a4a05d5",
   "metadata": {},
   "outputs": [],
   "source": [
    "number_of_steps_b2=[      0 ,       0 ,       0 ,       0 ,       0 ,       0 ,\n",
    "             0 ,       0 ,       0 ,       0 ,       0 ,       0 ,\n",
    "       1000001 , 1000001 , 1000001 , 1000001 , 1000001 , 1000001 ,\n",
    "       1000001 , 1000001 , 1000001 , 1000001 , 1000001 , 1000001 ,\n",
    "       1000001 , 1000001 , 1000001 , 1000001 ,  967356.8,  952689.2,\n",
    "        952947.5,  816301.8,  902163.9,  983770.7,  998603.3,  988830.3,\n",
    "       1000001 , 1000001 ,       1000001 ,       1000001,        1000001,       1000001 ,\n",
    "             1000001 ,       1000001 ,       1000001 ,       1000001 ,       1000001 ,       1000001 ,\n",
    "             1000001 ,       1000001 ]\n"
   ]
  },
  {
   "cell_type": "code",
   "execution_count": 90,
   "id": "04e40bf2",
   "metadata": {},
   "outputs": [
    {
     "data": {
      "text/plain": [
       "Text(0.5, 1.0, 'Number of steps to reach convergence for Euler Maruyama (4-modal)')"
      ]
     },
     "execution_count": 90,
     "metadata": {},
     "output_type": "execute_result"
    },
    {
     "data": {
      "image/png": "[encoded data removed]",
      "text/plain": [
       "<Figure size 432x288 with 1 Axes>"
      ]
     },
     "metadata": {
      "needs_background": "light"
     },
     "output_type": "display_data"
    }
   ],
   "source": [
    "plt.loglog(gammas_set[12:],number_of_steps_b2[12:])\n",
    "plt.xlim([10**(-3), 50])\n",
    "plt.xlabel('$\\gamma$')\n",
    "plt.ylabel('Number of steps')\n",
    "plt.title('Number of steps to reach convergence for Euler Maruyama (4-modal)')"
   ]
  },
  {
   "cell_type": "code",
   "execution_count": 27,
   "id": "1f4429af",
   "metadata": {},
   "outputs": [
    {
     "data": {
      "text/plain": [
       "Text(0.5, 1.0, 'Number of steps to reach convergence for Euler Maruyama')"
      ]
     },
     "execution_count": 27,
     "metadata": {},
     "output_type": "execute_result"
    },
    {
     "data": {
      "image/png": "[encoded data removed]",
      "text/plain": [
       "<Figure size 432x288 with 1 Axes>"
      ]
     },
     "metadata": {
      "needs_background": "light"
     },
     "output_type": "display_data"
    }
   ],
   "source": [
    "plt.loglog(gammas_set[12:],number_of_steps_b2[12:])\n",
    "plt.xlim([10**(-3), 50])\n",
    "plt.xlabel('$\\gamma$')\n",
    "plt.ylabel('Number of steps')\n",
    "plt.title('Number of steps to reach convergence for Euler Maruyama')"
   ]
  },
  {
   "cell_type": "markdown",
   "id": "8b253d4e",
   "metadata": {},
   "source": [
    "### CONVERGENCE FOR C:"
   ]
  },
  {
   "cell_type": "code",
   "execution_count": 85,
   "id": "6af534cb",
   "metadata": {},
   "outputs": [
    {
     "data": {
      "text/plain": [
       "array([1.00000000e-03, 1.24709047e-03, 1.55523463e-03, 1.93951828e-03,\n",
       "       2.41875476e-03, 3.01640600e-03, 3.76173116e-03, 4.69121907e-03,\n",
       "       5.85037458e-03, 7.29594636e-03, 9.09870515e-03, 1.13469085e-02,\n",
       "       1.41506214e-02, 1.76471050e-02, 2.20075364e-02, 2.74453888e-02,\n",
       "       3.42268827e-02, 4.26840192e-02, 5.32308334e-02, 6.63836648e-02,\n",
       "       8.27864355e-02, 1.03242174e-01, 1.28752331e-01, 1.60565805e-01,\n",
       "       2.00240085e-01, 2.49717501e-01, 3.11420314e-01, 3.88369305e-01,\n",
       "       4.84331658e-01, 6.04005393e-01, 7.53249367e-01, 9.39370105e-01,\n",
       "       1.17147950e+00, 1.46094092e+00, 1.82192549e+00, 2.27210591e+00,\n",
       "       2.83352162e+00, 3.53365780e+00, 4.40679095e+00, 5.49566698e+00,\n",
       "       6.85359390e+00, 8.54705161e+00, 1.06589466e+01, 1.32926707e+01,\n",
       "       1.65771629e+01, 2.06732218e+01, 2.57813778e+01, 3.21517104e+01,\n",
       "       4.00960915e+01, 5.00034535e+01])"
      ]
     },
     "execution_count": 85,
     "metadata": {},
     "output_type": "execute_result"
    }
   ],
   "source": [
    "gammas_set=np.logspace(-3,1.699,50)\n",
    "gammas_set"
   ]
  },
  {
   "cell_type": "code",
   "execution_count": 86,
   "id": "445fb430",
   "metadata": {},
   "outputs": [
    {
     "name": "stdout",
     "output_type": "stream",
     "text": [
      "gamma is 0.014150621355555537\n",
      "time needed for python to run 301.58103132247925\n",
      "steps to reach convergence 1000001.0\n",
      "gamma is 0.017647104985532645\n",
      "time needed for python to run 300.97331833839417\n",
      "steps to reach convergence 1000001.0\n",
      "gamma is 0.022007536386248326\n",
      "time needed for python to run 299.7185935974121\n",
      "steps to reach convergence 1000001.0\n",
      "gamma is 0.027445388815281958\n",
      "time needed for python to run 300.9782168865204\n",
      "steps to reach convergence 1000001.0\n",
      "gamma is 0.03422688273698281\n",
      "time needed for python to run 300.6495110988617\n",
      "steps to reach convergence 1000001.0\n",
      "gamma is 0.042684019154389845\n",
      "time needed for python to run 300.63378143310547\n",
      "steps to reach convergence 1000001.0\n",
      "gamma is 0.05323083335321371\n",
      "time needed for python to run 299.2907905578613\n",
      "steps to reach convergence 1000001.0\n",
      "gamma is 0.06638366479099932\n",
      "time needed for python to run 301.0861761569977\n",
      "steps to reach convergence 1000001.0\n",
      "gamma is 0.08278643548265453\n",
      "time needed for python to run 300.3303208351135\n",
      "steps to reach convergence 1000001.0\n",
      "gamma is 0.10324217443404794\n",
      "time needed for python to run 231.20731139183044\n",
      "steps to reach convergence 1000001.0\n",
      "gamma is 0.12875233146260612\n",
      "time needed for python to run 74.28282618522644\n",
      "steps to reach convergence 1000001.0\n",
      "gamma is 0.1605658050881757\n",
      "time needed for python to run 40.72155737876892\n",
      "steps to reach convergence 1000001.0\n",
      "gamma is 0.2002400847483044\n",
      "time needed for python to run 27.826110124588013\n",
      "steps to reach convergence 1000001.0\n",
      "gamma is 0.24971750067200893\n",
      "time needed for python to run 22.801729679107666\n",
      "steps to reach convergence 1000001.0\n",
      "gamma is 0.3114203143704111\n",
      "time needed for python to run 17.870689630508423\n",
      "steps to reach convergence 1000001.0\n",
      "gamma is 0.3883693050810541\n",
      "time needed for python to run 14.79945993423462\n",
      "steps to reach convergence 1000001.0\n",
      "gamma is 0.48433165779204407\n",
      "time needed for python to run 12.484740018844604\n",
      "steps to reach convergence 1000001.0\n",
      "gamma is 0.6040053929870508\n",
      "time needed for python to run 12.02033519744873\n",
      "steps to reach convergence 1000001.0\n",
      "gamma is 0.753249367222004\n",
      "time needed for python to run 10.861173152923584\n",
      "steps to reach convergence 1000001.0\n",
      "gamma is 0.9393701046515556\n",
      "time needed for python to run 10.788461208343506\n",
      "steps to reach convergence 1000001.0\n",
      "gamma is 1.171479501891172\n",
      "time needed for python to run 11.255873918533325\n",
      "steps to reach convergence 1000001.0\n",
      "gamma is 1.4609409183404287\n",
      "time needed for python to run 10.824530839920044\n",
      "steps to reach convergence 1000001.0\n",
      "gamma is 1.8219254911723193\n",
      "time needed for python to run 11.234405040740967\n",
      "steps to reach convergence 1000001.0\n",
      "gamma is 2.272105910452707\n",
      "time needed for python to run 13.631287336349487\n",
      "steps to reach convergence 1000001.0\n",
      "gamma is 2.83352161947761\n",
      "time needed for python to run 14.465702533721924\n",
      "steps to reach convergence 1000001.0\n",
      "gamma is 3.5336577978652834\n",
      "time needed for python to run 18.279159784317017\n",
      "steps to reach convergence 1000001.0\n",
      "[      0.       0.       0.       0.       0.       0.       0.       0.\n",
      "       0.       0. 1000001. 1000001. 1000001. 1000001. 1000001. 1000001.\n",
      " 1000001. 1000001. 1000001. 1000001. 1000001. 1000001. 1000001. 1000001.\n",
      " 1000001. 1000001. 1000001. 1000001. 1000001. 1000001. 1000001. 1000001.\n",
      " 1000001. 1000001. 1000001. 1000001.       0.       0.       0.       0.\n",
      "       0.       0.       0.       0.       0.       0.       0.       0.\n",
      "       0.       0.]\n"
     ]
    }
   ],
   "source": [
    "xsq_true_value=1\n",
    "u = 0.01\n",
    "T=1000000\n",
    "epsilon=0.1\n",
    "dt=0.01 # step size\n",
    "n=100 # number of paths\n",
    "x0 = 1*random_gaussian(n)\n",
    "v0 = 1*random_gaussian(n)\n",
    "\n",
    "number_of_steps_c=np.zeros(50)\n",
    "c=10\n",
    "\n",
    "for gamma in gammas_set[12:-12]:\n",
    "    print(f'gamma is {gamma}')\n",
    "    steps_for_gamma_c=np.zeros(10)\n",
    "    \n",
    "    start_time = time.time()\n",
    "    for i in range(0,10):\n",
    "        conv_steps=find_convergence_time_2(x0, v0, gamma, u, EM_Step_a, dt,n,grad_potential_c,T,epsilon,xsq_true_value,20000)\n",
    "        steps_for_gamma_c[i]=conv_steps\n",
    "        \n",
    "    if np.all(steps_for_gamma_b2):\n",
    "        number_of_steps_c[c]=np.mean(steps_for_gamma_b2)\n",
    "    else:\n",
    "        number_of_steps_c[c]=0\n",
    "        \n",
    "    print(f'time needed for python to run {time.time()-start_time}')\n",
    "    print(f'steps to reach convergence {number_of_steps_c[c]}')\n",
    "    c=c+1\n",
    "    \n",
    "\n",
    "print(number_of_steps_c)"
   ]
  },
  {
   "cell_type": "code",
   "execution_count": 16,
   "id": "eb52d124",
   "metadata": {},
   "outputs": [
    {
     "name": "stdout",
     "output_type": "stream",
     "text": [
      "c distribution has expectation of x^2 : 1.0\n",
      "c distribution has expectation of u(x) : 0.5\n"
     ]
    },
    {
     "data": {
      "image/png": "[encoded data removed]",
      "text/plain": [
       "<Figure size 432x288 with 1 Axes>"
      ]
     },
     "metadata": {
      "needs_background": "light"
     },
     "output_type": "display_data"
    }
   ],
   "source": [
    "x=np.linspace(-6,6,10001)\n",
    "normalized_exact_dist=evaluate_dist_c(x)\n",
    "plt.xlabel('x')\n",
    "plt.ylabel('frequency')\n",
    "plt.title('Normalized $e^{-U(x)}$ case (c)')\n",
    "plt.plot(x,normalized_exact_dist,label='Exact distribution')\n",
    "print('c distribution has expectation of x^2 : 1.0')\n",
    "print('c distribution has expectation of u(x) : 0.5')"
   ]
  },
  {
   "cell_type": "code",
   "execution_count": 24,
   "id": "be91fe95",
   "metadata": {},
   "outputs": [
    {
     "data": {
      "text/plain": [
       "Text(0.5, 1.0, 'Number of steps to reach convergence for Euler Maruyama')"
      ]
     },
     "execution_count": 24,
     "metadata": {},
     "output_type": "execute_result"
    },
    {
     "data": {
      "image/png": "[encoded data removed]",
      "text/plain": [
       "<Figure size 432x288 with 1 Axes>"
      ]
     },
     "metadata": {
      "needs_background": "light"
     },
     "output_type": "display_data"
    }
   ],
   "source": [
    "plt.loglog(gammas_set[11:],number_of_steps_c[11:])\n",
    "plt.xlim([10**(-3), 50])\n",
    "plt.xlabel('$\\gamma$')\n",
    "plt.ylabel('Number of steps')\n",
    "plt.title('Number of steps to reach convergence for Euler Maruyama')"
   ]
  }
 ],
 "metadata": {
  "kernelspec": {
   "display_name": "Python 3 (ipykernel)",
   "language": "python",
   "name": "python3"
  },
  "language_info": {
   "codemirror_mode": {
    "name": "ipython",
    "version": 3
   },
   "file_extension": ".py",
   "mimetype": "text/x-python",
   "name": "python",
   "nbconvert_exporter": "python",
   "pygments_lexer": "ipython3",
   "version": "3.9.12"
  }
 },
 "nbformat": 4,
 "nbformat_minor": 5
}
